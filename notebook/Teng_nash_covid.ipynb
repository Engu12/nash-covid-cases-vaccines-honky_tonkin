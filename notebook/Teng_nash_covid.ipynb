{
 "cells": [
  {
   "cell_type": "markdown",
   "metadata": {},
   "source": [
    "Importing some packages"
   ]
  },
  {
   "cell_type": "code",
   "execution_count": 1,
   "metadata": {},
   "outputs": [],
   "source": [
    "import pandas as pd\n",
    "import numpy as np\n",
    "import matplotlib.pyplot as plt\n",
    "import matplotlib.dates as mdates\n",
    "import datetime as dt\n",
    "import seaborn as sns\n",
    "import json\n",
    "\n",
    "%matplotlib inline "
   ]
  },
  {
   "cell_type": "markdown",
   "metadata": {},
   "source": [
    "# Notes:\n",
    "\n",
    "* Reading excel file, skipping the first row, setting the header\n",
    "* Dropping unnecessary columns\n",
    "* Dropping level\n",
    "* Transposing  \n",
    "\n",
    "income_data = pd.read_excel(\"data/household_income.xlsx\", skiprows = 1, header=[0, 1], sheet_name = 0)  \n",
    "\n",
    "income_data = income_data[income_data.columns.drop(list(income_data.filter(regex='Error')))]  \n",
    "\n",
    "income_data.columns = income_data.columns.droplevel(1)  \n",
    "\n",
    "income_data.set_index('Unnamed: 0_level_0').T.reset_index()  \n"
   ]
  },
  {
   "cell_type": "markdown",
   "metadata": {},
   "source": [
    "Creating some dataframes: covid cases, vaccine shots, weather"
   ]
  },
  {
   "cell_type": "code",
   "execution_count": 2,
   "metadata": {},
   "outputs": [
    {
     "name": "stdout",
     "output_type": "stream",
     "text": [
      "  Specimen Collection Date      Zip  Cases\n",
      "0                 3/6/2020  37217.0      1\n",
      "1                3/10/2020  37214.0      1\n",
      "2                3/11/2020  37013.0      1\n",
      "3                3/11/2020  37204.0      2\n",
      "4                3/11/2020  37205.0      1\n",
      "     Specimen Collection Date      Zip  Cases\n",
      "8827                3/27/2021  37210.0      1\n",
      "8828                3/27/2021  37211.0      1\n",
      "8829                3/27/2021  37212.0      1\n",
      "8830                3/27/2021  37214.0      2\n",
      "8831                3/27/2021  37221.0      2\n"
     ]
    }
   ],
   "source": [
    "covid_cases = pd.read_csv('../data/COVID_CountByZipPerDate 03292021.csv')\n",
    "print(covid_cases.head())\n",
    "print(covid_cases.tail())"
   ]
  },
  {
   "cell_type": "code",
   "execution_count": 3,
   "metadata": {},
   "outputs": [
    {
     "name": "stdout",
     "output_type": "stream",
     "text": [
      "    vacc_date  zipcode  count_given  dose_nbr  protocol\n",
      "0  2020-12-12  37215.0          1.0       1.0  two-shot\n",
      "1  2020-12-14  37205.0          1.0       2.0  two-shot\n",
      "2  2020-12-14  37215.0          1.0       1.0  two-shot\n",
      "3  2020-12-15  37221.0          1.0       1.0  two-shot\n",
      "4  2020-12-16  37215.0          1.0       1.0  two-shot\n",
      "       vacc_date  zipcode  count_given  dose_nbr  protocol\n",
      "6689  2021-04-07  37228.0          9.0       1.0  two-shot\n",
      "6690  2021-04-07  37228.0          2.0       2.0  two-shot\n",
      "6691  2021-04-07      NaN          8.0       1.0  two-shot\n",
      "6692  2021-04-07      NaN          1.0       1.0  one-shot\n",
      "6693  2021-04-07      NaN          7.0       2.0  two-shot\n"
     ]
    }
   ],
   "source": [
    "vacc_shots = pd.read_csv('../data/vaccine_with_protocol.csv')\n",
    "print(vacc_shots.head())\n",
    "print(vacc_shots.tail())"
   ]
  },
  {
   "cell_type": "code",
   "execution_count": 4,
   "metadata": {},
   "outputs": [
    {
     "name": "stdout",
     "output_type": "stream",
     "text": [
      "<class 'pandas.core.frame.DataFrame'>\n",
      "RangeIndex: 6694 entries, 0 to 6693\n",
      "Data columns (total 5 columns):\n",
      " #   Column       Non-Null Count  Dtype  \n",
      "---  ------       --------------  -----  \n",
      " 0   vacc_date    6694 non-null   object \n",
      " 1   zipcode      6462 non-null   float64\n",
      " 2   count_given  6686 non-null   float64\n",
      " 3   dose_nbr     6686 non-null   float64\n",
      " 4   protocol     6694 non-null   object \n",
      "dtypes: float64(3), object(2)\n",
      "memory usage: 261.6+ KB\n"
     ]
    }
   ],
   "source": [
    "vacc_shots.info()"
   ]
  },
  {
   "cell_type": "code",
   "execution_count": 5,
   "metadata": {
    "scrolled": false
   },
   "outputs": [
    {
     "name": "stdout",
     "output_type": "stream",
     "text": [
      "<class 'pandas.core.frame.DataFrame'>\n",
      "RangeIndex: 37056 entries, 0 to 37055\n",
      "Data columns (total 68 columns):\n",
      " #   Column           Non-Null Count  Dtype  \n",
      "---  ------           --------------  -----  \n",
      " 0   STATION          37056 non-null  object \n",
      " 1   NAME             37056 non-null  object \n",
      " 2   LATITUDE         37056 non-null  float64\n",
      " 3   LONGITUDE        37056 non-null  float64\n",
      " 4   ELEVATION        37056 non-null  float64\n",
      " 5   DATE             37056 non-null  object \n",
      " 6   AWND             412 non-null    float64\n",
      " 7   AWND_ATTRIBUTES  412 non-null    object \n",
      " 8   DAPR             561 non-null    float64\n",
      " 9   DAPR_ATTRIBUTES  561 non-null    object \n",
      " 10  EVAP             209 non-null    float64\n",
      " 11  EVAP_ATTRIBUTES  209 non-null    object \n",
      " 12  MDPR             555 non-null    float64\n",
      " 13  MDPR_ATTRIBUTES  555 non-null    object \n",
      " 14  MNPN             215 non-null    float64\n",
      " 15  MNPN_ATTRIBUTES  215 non-null    object \n",
      " 16  MXPN             215 non-null    float64\n",
      " 17  MXPN_ATTRIBUTES  215 non-null    object \n",
      " 18  PGTM             3 non-null      float64\n",
      " 19  PGTM_ATTRIBUTES  3 non-null      object \n",
      " 20  PRCP             36016 non-null  float64\n",
      " 21  PRCP_ATTRIBUTES  36016 non-null  object \n",
      " 22  SN32             364 non-null    float64\n",
      " 23  SN32_ATTRIBUTES  364 non-null    object \n",
      " 24  SNOW             15625 non-null  float64\n",
      " 25  SNOW_ATTRIBUTES  15625 non-null  object \n",
      " 26  SNWD             4178 non-null   float64\n",
      " 27  SNWD_ATTRIBUTES  4178 non-null   object \n",
      " 28  SX32             364 non-null    float64\n",
      " 29  SX32_ATTRIBUTES  364 non-null    object \n",
      " 30  TAVG             808 non-null    float64\n",
      " 31  TAVG_ATTRIBUTES  808 non-null    object \n",
      " 32  TMAX             7535 non-null   float64\n",
      " 33  TMAX_ATTRIBUTES  7535 non-null   object \n",
      " 34  TMIN             7535 non-null   float64\n",
      " 35  TMIN_ATTRIBUTES  7535 non-null   object \n",
      " 36  TOBS             6481 non-null   float64\n",
      " 37  TOBS_ATTRIBUTES  6481 non-null   object \n",
      " 38  WDF2             412 non-null    float64\n",
      " 39  WDF2_ATTRIBUTES  412 non-null    object \n",
      " 40  WDF5             410 non-null    float64\n",
      " 41  WDF5_ATTRIBUTES  410 non-null    object \n",
      " 42  WDMV             214 non-null    float64\n",
      " 43  WDMV_ATTRIBUTES  214 non-null    object \n",
      " 44  WESD             540 non-null    float64\n",
      " 45  WESD_ATTRIBUTES  540 non-null    object \n",
      " 46  WESF             590 non-null    float64\n",
      " 47  WESF_ATTRIBUTES  590 non-null    object \n",
      " 48  WSF2             412 non-null    float64\n",
      " 49  WSF2_ATTRIBUTES  412 non-null    object \n",
      " 50  WSF5             410 non-null    float64\n",
      " 51  WSF5_ATTRIBUTES  410 non-null    object \n",
      " 52  WT01             310 non-null    float64\n",
      " 53  WT01_ATTRIBUTES  310 non-null    object \n",
      " 54  WT02             18 non-null     float64\n",
      " 55  WT02_ATTRIBUTES  18 non-null     object \n",
      " 56  WT03             136 non-null    float64\n",
      " 57  WT03_ATTRIBUTES  136 non-null    object \n",
      " 58  WT04             18 non-null     float64\n",
      " 59  WT04_ATTRIBUTES  18 non-null     object \n",
      " 60  WT05             5 non-null      float64\n",
      " 61  WT05_ATTRIBUTES  5 non-null      object \n",
      " 62  WT06             10 non-null     float64\n",
      " 63  WT06_ATTRIBUTES  10 non-null     object \n",
      " 64  WT08             84 non-null     float64\n",
      " 65  WT08_ATTRIBUTES  84 non-null     object \n",
      " 66  WT11             6 non-null      float64\n",
      " 67  WT11_ATTRIBUTES  6 non-null      object \n",
      "dtypes: float64(34), object(34)\n",
      "memory usage: 19.2+ MB\n"
     ]
    },
    {
     "name": "stderr",
     "output_type": "stream",
     "text": [
      "C:\\Users\\tye64\\anaconda3\\lib\\site-packages\\IPython\\core\\interactiveshell.py:3146: DtypeWarning: Columns (7,11,15,17,19,23,29,31,39,41,43,49,51,53,55,57,59,61,63,65,67) have mixed types.Specify dtype option on import or set low_memory=False.\n",
      "  has_raised = await self.run_ast_nodes(code_ast.body, cell_name,\n"
     ]
    }
   ],
   "source": [
    "nash_weather = pd.read_csv('../data/weather_stats.csv')\n",
    "\n",
    "nash_weather.info()"
   ]
  },
  {
   "cell_type": "code",
   "execution_count": 6,
   "metadata": {},
   "outputs": [
    {
     "data": {
      "text/html": [
       "<div>\n",
       "<style scoped>\n",
       "    .dataframe tbody tr th:only-of-type {\n",
       "        vertical-align: middle;\n",
       "    }\n",
       "\n",
       "    .dataframe tbody tr th {\n",
       "        vertical-align: top;\n",
       "    }\n",
       "\n",
       "    .dataframe thead th {\n",
       "        text-align: right;\n",
       "    }\n",
       "</style>\n",
       "<table border=\"1\" class=\"dataframe\">\n",
       "  <thead>\n",
       "    <tr style=\"text-align: right;\">\n",
       "      <th></th>\n",
       "      <th>LATITUDE</th>\n",
       "      <th>LONGITUDE</th>\n",
       "      <th>TAVG</th>\n",
       "      <th>TMAX</th>\n",
       "      <th>TMIN</th>\n",
       "    </tr>\n",
       "  </thead>\n",
       "  <tbody>\n",
       "    <tr>\n",
       "      <th>count</th>\n",
       "      <td>37056.000000</td>\n",
       "      <td>37056.000000</td>\n",
       "      <td>808.000000</td>\n",
       "      <td>7535.000000</td>\n",
       "      <td>7535.000000</td>\n",
       "    </tr>\n",
       "    <tr>\n",
       "      <th>mean</th>\n",
       "      <td>36.111538</td>\n",
       "      <td>-86.770498</td>\n",
       "      <td>59.696782</td>\n",
       "      <td>69.143729</td>\n",
       "      <td>47.397877</td>\n",
       "    </tr>\n",
       "    <tr>\n",
       "      <th>std</th>\n",
       "      <td>0.171133</td>\n",
       "      <td>0.257603</td>\n",
       "      <td>15.077935</td>\n",
       "      <td>16.661727</td>\n",
       "      <td>16.345183</td>\n",
       "    </tr>\n",
       "    <tr>\n",
       "      <th>min</th>\n",
       "      <td>35.719605</td>\n",
       "      <td>-87.364400</td>\n",
       "      <td>16.000000</td>\n",
       "      <td>13.000000</td>\n",
       "      <td>-99.000000</td>\n",
       "    </tr>\n",
       "    <tr>\n",
       "      <th>25%</th>\n",
       "      <td>35.976800</td>\n",
       "      <td>-86.910740</td>\n",
       "      <td>49.000000</td>\n",
       "      <td>58.000000</td>\n",
       "      <td>34.000000</td>\n",
       "    </tr>\n",
       "    <tr>\n",
       "      <th>50%</th>\n",
       "      <td>36.110790</td>\n",
       "      <td>-86.772900</td>\n",
       "      <td>60.000000</td>\n",
       "      <td>70.000000</td>\n",
       "      <td>47.000000</td>\n",
       "    </tr>\n",
       "    <tr>\n",
       "      <th>75%</th>\n",
       "      <td>36.222431</td>\n",
       "      <td>-86.571596</td>\n",
       "      <td>73.000000</td>\n",
       "      <td>83.000000</td>\n",
       "      <td>62.000000</td>\n",
       "    </tr>\n",
       "    <tr>\n",
       "      <th>max</th>\n",
       "      <td>36.538515</td>\n",
       "      <td>-86.306030</td>\n",
       "      <td>87.000000</td>\n",
       "      <td>99.000000</td>\n",
       "      <td>77.000000</td>\n",
       "    </tr>\n",
       "  </tbody>\n",
       "</table>\n",
       "</div>"
      ],
      "text/plain": [
       "           LATITUDE     LONGITUDE        TAVG         TMAX         TMIN\n",
       "count  37056.000000  37056.000000  808.000000  7535.000000  7535.000000\n",
       "mean      36.111538    -86.770498   59.696782    69.143729    47.397877\n",
       "std        0.171133      0.257603   15.077935    16.661727    16.345183\n",
       "min       35.719605    -87.364400   16.000000    13.000000   -99.000000\n",
       "25%       35.976800    -86.910740   49.000000    58.000000    34.000000\n",
       "50%       36.110790    -86.772900   60.000000    70.000000    47.000000\n",
       "75%       36.222431    -86.571596   73.000000    83.000000    62.000000\n",
       "max       36.538515    -86.306030   87.000000    99.000000    77.000000"
      ]
     },
     "execution_count": 6,
     "metadata": {},
     "output_type": "execute_result"
    }
   ],
   "source": [
    "nash_weather = nash_weather[['STATION', 'NAME', 'LATITUDE', 'LONGITUDE', 'DATE', 'TAVG', 'TMAX', 'TMIN']]\n",
    "nash_weather.describe()"
   ]
  },
  {
   "cell_type": "code",
   "execution_count": 7,
   "metadata": {},
   "outputs": [],
   "source": [
    "nash_weather = nash_weather.rename({'TAVG': 'temp_avg', 'TMAX':'temp_max', 'TMIN':'temp_min'}, axis =1)\n",
    "nash_weather.head()\n",
    "nash_weather['DATE'] = pd.to_datetime(nash_weather['DATE'])"
   ]
  },
  {
   "cell_type": "markdown",
   "metadata": {},
   "source": [
    "Renaming some columns in covid cases"
   ]
  },
  {
   "cell_type": "code",
   "execution_count": 8,
   "metadata": {},
   "outputs": [
    {
     "data": {
      "text/html": [
       "<div>\n",
       "<style scoped>\n",
       "    .dataframe tbody tr th:only-of-type {\n",
       "        vertical-align: middle;\n",
       "    }\n",
       "\n",
       "    .dataframe tbody tr th {\n",
       "        vertical-align: top;\n",
       "    }\n",
       "\n",
       "    .dataframe thead th {\n",
       "        text-align: right;\n",
       "    }\n",
       "</style>\n",
       "<table border=\"1\" class=\"dataframe\">\n",
       "  <thead>\n",
       "    <tr style=\"text-align: right;\">\n",
       "      <th></th>\n",
       "      <th>date</th>\n",
       "      <th>zip</th>\n",
       "      <th>cases</th>\n",
       "    </tr>\n",
       "  </thead>\n",
       "  <tbody>\n",
       "    <tr>\n",
       "      <th>0</th>\n",
       "      <td>3/6/2020</td>\n",
       "      <td>37217.0</td>\n",
       "      <td>1</td>\n",
       "    </tr>\n",
       "    <tr>\n",
       "      <th>1</th>\n",
       "      <td>3/10/2020</td>\n",
       "      <td>37214.0</td>\n",
       "      <td>1</td>\n",
       "    </tr>\n",
       "    <tr>\n",
       "      <th>2</th>\n",
       "      <td>3/11/2020</td>\n",
       "      <td>37013.0</td>\n",
       "      <td>1</td>\n",
       "    </tr>\n",
       "    <tr>\n",
       "      <th>3</th>\n",
       "      <td>3/11/2020</td>\n",
       "      <td>37204.0</td>\n",
       "      <td>2</td>\n",
       "    </tr>\n",
       "    <tr>\n",
       "      <th>4</th>\n",
       "      <td>3/11/2020</td>\n",
       "      <td>37205.0</td>\n",
       "      <td>1</td>\n",
       "    </tr>\n",
       "  </tbody>\n",
       "</table>\n",
       "</div>"
      ],
      "text/plain": [
       "        date      zip  cases\n",
       "0   3/6/2020  37217.0      1\n",
       "1  3/10/2020  37214.0      1\n",
       "2  3/11/2020  37013.0      1\n",
       "3  3/11/2020  37204.0      2\n",
       "4  3/11/2020  37205.0      1"
      ]
     },
     "execution_count": 8,
     "metadata": {},
     "output_type": "execute_result"
    }
   ],
   "source": [
    "covid_cases = covid_cases.rename(columns = {'Specimen Collection Date' : 'date', 'Zip':'zip','Cases':'cases'})\n",
    "covid_cases.head()"
   ]
  },
  {
   "cell_type": "markdown",
   "metadata": {},
   "source": [
    "Renaming columns in vacc shots"
   ]
  },
  {
   "cell_type": "code",
   "execution_count": 9,
   "metadata": {},
   "outputs": [
    {
     "data": {
      "text/html": [
       "<div>\n",
       "<style scoped>\n",
       "    .dataframe tbody tr th:only-of-type {\n",
       "        vertical-align: middle;\n",
       "    }\n",
       "\n",
       "    .dataframe tbody tr th {\n",
       "        vertical-align: top;\n",
       "    }\n",
       "\n",
       "    .dataframe thead th {\n",
       "        text-align: right;\n",
       "    }\n",
       "</style>\n",
       "<table border=\"1\" class=\"dataframe\">\n",
       "  <thead>\n",
       "    <tr style=\"text-align: right;\">\n",
       "      <th></th>\n",
       "      <th>date</th>\n",
       "      <th>zip</th>\n",
       "      <th>vacc_given</th>\n",
       "      <th>dose_nbr</th>\n",
       "      <th>protocol</th>\n",
       "    </tr>\n",
       "  </thead>\n",
       "  <tbody>\n",
       "    <tr>\n",
       "      <th>0</th>\n",
       "      <td>2020-12-12</td>\n",
       "      <td>37215.0</td>\n",
       "      <td>1.0</td>\n",
       "      <td>1.0</td>\n",
       "      <td>two-shot</td>\n",
       "    </tr>\n",
       "    <tr>\n",
       "      <th>1</th>\n",
       "      <td>2020-12-14</td>\n",
       "      <td>37205.0</td>\n",
       "      <td>1.0</td>\n",
       "      <td>2.0</td>\n",
       "      <td>two-shot</td>\n",
       "    </tr>\n",
       "    <tr>\n",
       "      <th>2</th>\n",
       "      <td>2020-12-14</td>\n",
       "      <td>37215.0</td>\n",
       "      <td>1.0</td>\n",
       "      <td>1.0</td>\n",
       "      <td>two-shot</td>\n",
       "    </tr>\n",
       "    <tr>\n",
       "      <th>3</th>\n",
       "      <td>2020-12-15</td>\n",
       "      <td>37221.0</td>\n",
       "      <td>1.0</td>\n",
       "      <td>1.0</td>\n",
       "      <td>two-shot</td>\n",
       "    </tr>\n",
       "    <tr>\n",
       "      <th>4</th>\n",
       "      <td>2020-12-16</td>\n",
       "      <td>37215.0</td>\n",
       "      <td>1.0</td>\n",
       "      <td>1.0</td>\n",
       "      <td>two-shot</td>\n",
       "    </tr>\n",
       "  </tbody>\n",
       "</table>\n",
       "</div>"
      ],
      "text/plain": [
       "         date      zip  vacc_given  dose_nbr  protocol\n",
       "0  2020-12-12  37215.0         1.0       1.0  two-shot\n",
       "1  2020-12-14  37205.0         1.0       2.0  two-shot\n",
       "2  2020-12-14  37215.0         1.0       1.0  two-shot\n",
       "3  2020-12-15  37221.0         1.0       1.0  two-shot\n",
       "4  2020-12-16  37215.0         1.0       1.0  two-shot"
      ]
     },
     "execution_count": 9,
     "metadata": {},
     "output_type": "execute_result"
    }
   ],
   "source": [
    "vacc_shots = vacc_shots.rename(columns = {'vacc_date': 'date', 'zipcode': 'zip', 'count_given':'vacc_given', 'dose_nbr':'dose_nbr', 'protocal':'protocal'})\n",
    "vacc_shots.head()"
   ]
  },
  {
   "cell_type": "code",
   "execution_count": 10,
   "metadata": {},
   "outputs": [],
   "source": [
    "covid_cases['zip'] = covid_cases['zip'].astype('Int64')\n",
    "covid_cases['zip'] = covid_cases['zip'].astype('str')\n",
    "covid_cases['date'] = pd.to_datetime(covid_cases['date'])"
   ]
  },
  {
   "cell_type": "code",
   "execution_count": 11,
   "metadata": {},
   "outputs": [],
   "source": [
    "vacc_shots['zip'] = vacc_shots['zip'].astype('Int64')\n",
    "vacc_shots['zip'] = vacc_shots['zip'].astype('str')\n",
    "vacc_shots['date'] = pd.to_datetime(vacc_shots['date'])"
   ]
  },
  {
   "cell_type": "code",
   "execution_count": 12,
   "metadata": {
    "scrolled": true
   },
   "outputs": [
    {
     "name": "stdout",
     "output_type": "stream",
     "text": [
      "date     datetime64[ns]\n",
      "zip              object\n",
      "cases             int64\n",
      "dtype: object\n"
     ]
    },
    {
     "data": {
      "text/plain": [
       "<bound method DataFrame.info of            date    zip  cases\n",
       "0    2020-03-06  37217      1\n",
       "1    2020-03-10  37214      1\n",
       "2    2020-03-11  37013      1\n",
       "3    2020-03-11  37204      2\n",
       "4    2020-03-11  37205      1\n",
       "...         ...    ...    ...\n",
       "8827 2021-03-27  37210      1\n",
       "8828 2021-03-27  37211      1\n",
       "8829 2021-03-27  37212      1\n",
       "8830 2021-03-27  37214      2\n",
       "8831 2021-03-27  37221      2\n",
       "\n",
       "[8832 rows x 3 columns]>"
      ]
     },
     "execution_count": 12,
     "metadata": {},
     "output_type": "execute_result"
    }
   ],
   "source": [
    "print(covid_cases.dtypes)\n",
    "covid_cases.info"
   ]
  },
  {
   "cell_type": "code",
   "execution_count": 13,
   "metadata": {},
   "outputs": [
    {
     "data": {
      "text/html": [
       "<div>\n",
       "<style scoped>\n",
       "    .dataframe tbody tr th:only-of-type {\n",
       "        vertical-align: middle;\n",
       "    }\n",
       "\n",
       "    .dataframe tbody tr th {\n",
       "        vertical-align: top;\n",
       "    }\n",
       "\n",
       "    .dataframe thead th {\n",
       "        text-align: right;\n",
       "    }\n",
       "</style>\n",
       "<table border=\"1\" class=\"dataframe\">\n",
       "  <thead>\n",
       "    <tr style=\"text-align: right;\">\n",
       "      <th></th>\n",
       "      <th>zip</th>\n",
       "      <th>cases</th>\n",
       "    </tr>\n",
       "  </thead>\n",
       "  <tbody>\n",
       "    <tr>\n",
       "      <th>0</th>\n",
       "      <td>37013</td>\n",
       "      <td>13354</td>\n",
       "    </tr>\n",
       "    <tr>\n",
       "      <th>1</th>\n",
       "      <td>37027</td>\n",
       "      <td>231</td>\n",
       "    </tr>\n",
       "    <tr>\n",
       "      <th>2</th>\n",
       "      <td>37069</td>\n",
       "      <td>16</td>\n",
       "    </tr>\n",
       "    <tr>\n",
       "      <th>3</th>\n",
       "      <td>37072</td>\n",
       "      <td>2984</td>\n",
       "    </tr>\n",
       "    <tr>\n",
       "      <th>4</th>\n",
       "      <td>37076</td>\n",
       "      <td>4279</td>\n",
       "    </tr>\n",
       "    <tr>\n",
       "      <th>5</th>\n",
       "      <td>37080</td>\n",
       "      <td>574</td>\n",
       "    </tr>\n",
       "    <tr>\n",
       "      <th>6</th>\n",
       "      <td>37115</td>\n",
       "      <td>4574</td>\n",
       "    </tr>\n",
       "    <tr>\n",
       "      <th>7</th>\n",
       "      <td>37138</td>\n",
       "      <td>2359</td>\n",
       "    </tr>\n",
       "    <tr>\n",
       "      <th>8</th>\n",
       "      <td>37189</td>\n",
       "      <td>479</td>\n",
       "    </tr>\n",
       "    <tr>\n",
       "      <th>9</th>\n",
       "      <td>37201</td>\n",
       "      <td>299</td>\n",
       "    </tr>\n",
       "    <tr>\n",
       "      <th>10</th>\n",
       "      <td>37203</td>\n",
       "      <td>3346</td>\n",
       "    </tr>\n",
       "    <tr>\n",
       "      <th>11</th>\n",
       "      <td>37204</td>\n",
       "      <td>1786</td>\n",
       "    </tr>\n",
       "    <tr>\n",
       "      <th>12</th>\n",
       "      <td>37205</td>\n",
       "      <td>2566</td>\n",
       "    </tr>\n",
       "    <tr>\n",
       "      <th>13</th>\n",
       "      <td>37206</td>\n",
       "      <td>3112</td>\n",
       "    </tr>\n",
       "    <tr>\n",
       "      <th>14</th>\n",
       "      <td>37207</td>\n",
       "      <td>4729</td>\n",
       "    </tr>\n",
       "    <tr>\n",
       "      <th>15</th>\n",
       "      <td>37208</td>\n",
       "      <td>2428</td>\n",
       "    </tr>\n",
       "    <tr>\n",
       "      <th>16</th>\n",
       "      <td>37209</td>\n",
       "      <td>5072</td>\n",
       "    </tr>\n",
       "    <tr>\n",
       "      <th>17</th>\n",
       "      <td>37210</td>\n",
       "      <td>2100</td>\n",
       "    </tr>\n",
       "    <tr>\n",
       "      <th>18</th>\n",
       "      <td>37211</td>\n",
       "      <td>10233</td>\n",
       "    </tr>\n",
       "    <tr>\n",
       "      <th>19</th>\n",
       "      <td>37212</td>\n",
       "      <td>1823</td>\n",
       "    </tr>\n",
       "    <tr>\n",
       "      <th>20</th>\n",
       "      <td>37213</td>\n",
       "      <td>65</td>\n",
       "    </tr>\n",
       "    <tr>\n",
       "      <th>21</th>\n",
       "      <td>37214</td>\n",
       "      <td>3508</td>\n",
       "    </tr>\n",
       "    <tr>\n",
       "      <th>22</th>\n",
       "      <td>37215</td>\n",
       "      <td>2438</td>\n",
       "    </tr>\n",
       "    <tr>\n",
       "      <th>23</th>\n",
       "      <td>37216</td>\n",
       "      <td>2011</td>\n",
       "    </tr>\n",
       "    <tr>\n",
       "      <th>24</th>\n",
       "      <td>37217</td>\n",
       "      <td>3907</td>\n",
       "    </tr>\n",
       "    <tr>\n",
       "      <th>25</th>\n",
       "      <td>37218</td>\n",
       "      <td>1785</td>\n",
       "    </tr>\n",
       "    <tr>\n",
       "      <th>26</th>\n",
       "      <td>37219</td>\n",
       "      <td>270</td>\n",
       "    </tr>\n",
       "    <tr>\n",
       "      <th>27</th>\n",
       "      <td>37220</td>\n",
       "      <td>656</td>\n",
       "    </tr>\n",
       "    <tr>\n",
       "      <th>28</th>\n",
       "      <td>37221</td>\n",
       "      <td>3910</td>\n",
       "    </tr>\n",
       "    <tr>\n",
       "      <th>29</th>\n",
       "      <td>37228</td>\n",
       "      <td>310</td>\n",
       "    </tr>\n",
       "    <tr>\n",
       "      <th>30</th>\n",
       "      <td>37238</td>\n",
       "      <td>3</td>\n",
       "    </tr>\n",
       "    <tr>\n",
       "      <th>31</th>\n",
       "      <td>&lt;NA&gt;</td>\n",
       "      <td>8412</td>\n",
       "    </tr>\n",
       "  </tbody>\n",
       "</table>\n",
       "</div>"
      ],
      "text/plain": [
       "      zip  cases\n",
       "0   37013  13354\n",
       "1   37027    231\n",
       "2   37069     16\n",
       "3   37072   2984\n",
       "4   37076   4279\n",
       "5   37080    574\n",
       "6   37115   4574\n",
       "7   37138   2359\n",
       "8   37189    479\n",
       "9   37201    299\n",
       "10  37203   3346\n",
       "11  37204   1786\n",
       "12  37205   2566\n",
       "13  37206   3112\n",
       "14  37207   4729\n",
       "15  37208   2428\n",
       "16  37209   5072\n",
       "17  37210   2100\n",
       "18  37211  10233\n",
       "19  37212   1823\n",
       "20  37213     65\n",
       "21  37214   3508\n",
       "22  37215   2438\n",
       "23  37216   2011\n",
       "24  37217   3907\n",
       "25  37218   1785\n",
       "26  37219    270\n",
       "27  37220    656\n",
       "28  37221   3910\n",
       "29  37228    310\n",
       "30  37238      3\n",
       "31   <NA>   8412"
      ]
     },
     "execution_count": 13,
     "metadata": {},
     "output_type": "execute_result"
    }
   ],
   "source": [
    "#group by zipcode to get total cases per zipcode\n",
    "covid_group_zip = covid_cases.groupby(['zip'],as_index=False)['cases'].sum()\n",
    "covid_group_zip"
   ]
  },
  {
   "cell_type": "code",
   "execution_count": 14,
   "metadata": {},
   "outputs": [
    {
     "data": {
      "image/png": "[encoded data removed]",
      "text/plain": [
       "<Figure size 720x432 with 1 Axes>"
      ]
     },
     "metadata": {
      "needs_background": "light"
     },
     "output_type": "display_data"
    }
   ],
   "source": [
    "plt.figure(figsize=(10, 6))\n",
    "plt.scatter(x = covid_cases['date'], y = covid_cases['cases'])\n",
    "plt.xlabel('Date')\n",
    "plt.ylabel('Cases Numbers')\n",
    "plt.ylim(0, 400)\n",
    "plt.title('Covid Cases by Date');"
   ]
  },
  {
   "cell_type": "code",
   "execution_count": 15,
   "metadata": {},
   "outputs": [
    {
     "name": "stdout",
     "output_type": "stream",
     "text": [
      "       STATION                             NAME   LATITUDE  LONGITUDE  \\\n",
      "0  US1TNCH0002  KINGSTON SPRINGS 0.3 ENE, TN US  36.098414 -87.096259   \n",
      "1  US1TNCH0002  KINGSTON SPRINGS 0.3 ENE, TN US  36.098414 -87.096259   \n",
      "2  US1TNCH0002  KINGSTON SPRINGS 0.3 ENE, TN US  36.098414 -87.096259   \n",
      "3  US1TNCH0002  KINGSTON SPRINGS 0.3 ENE, TN US  36.098414 -87.096259   \n",
      "4  US1TNCH0002  KINGSTON SPRINGS 0.3 ENE, TN US  36.098414 -87.096259   \n",
      "\n",
      "        DATE  temp_avg  temp_max  temp_min  \n",
      "0 2020-03-01       NaN       NaN       NaN  \n",
      "1 2020-03-02       NaN       NaN       NaN  \n",
      "2 2020-03-03       NaN       NaN       NaN  \n",
      "3 2020-03-04       NaN       NaN       NaN  \n",
      "4 2020-03-05       NaN       NaN       NaN  \n",
      "<class 'pandas.core.frame.DataFrame'>\n",
      "RangeIndex: 37056 entries, 0 to 37055\n",
      "Data columns (total 8 columns):\n",
      " #   Column     Non-Null Count  Dtype         \n",
      "---  ------     --------------  -----         \n",
      " 0   STATION    37056 non-null  object        \n",
      " 1   NAME       37056 non-null  object        \n",
      " 2   LATITUDE   37056 non-null  float64       \n",
      " 3   LONGITUDE  37056 non-null  float64       \n",
      " 4   DATE       37056 non-null  datetime64[ns]\n",
      " 5   temp_avg   808 non-null    float64       \n",
      " 6   temp_max   7535 non-null   float64       \n",
      " 7   temp_min   7535 non-null   float64       \n",
      "dtypes: datetime64[ns](1), float64(5), object(2)\n",
      "memory usage: 2.3+ MB\n"
     ]
    }
   ],
   "source": [
    "print(nash_weather.head())\n",
    "nash_weather.info()"
   ]
  },
  {
   "cell_type": "code",
   "execution_count": 16,
   "metadata": {},
   "outputs": [
    {
     "data": {
      "text/html": [
       "<div>\n",
       "<style scoped>\n",
       "    .dataframe tbody tr th:only-of-type {\n",
       "        vertical-align: middle;\n",
       "    }\n",
       "\n",
       "    .dataframe tbody tr th {\n",
       "        vertical-align: top;\n",
       "    }\n",
       "\n",
       "    .dataframe thead th {\n",
       "        text-align: right;\n",
       "    }\n",
       "</style>\n",
       "<table border=\"1\" class=\"dataframe\">\n",
       "  <thead>\n",
       "    <tr style=\"text-align: right;\">\n",
       "      <th></th>\n",
       "      <th>STATION</th>\n",
       "      <th>NAME</th>\n",
       "      <th>LATITUDE</th>\n",
       "      <th>LONGITUDE</th>\n",
       "      <th>DATE</th>\n",
       "      <th>temp_avg</th>\n",
       "      <th>temp_max</th>\n",
       "      <th>temp_min</th>\n",
       "    </tr>\n",
       "  </thead>\n",
       "  <tbody>\n",
       "    <tr>\n",
       "      <th>0</th>\n",
       "      <td>US1TNCH0002</td>\n",
       "      <td>KINGSTON SPRINGS 0.3 ENE, TN US</td>\n",
       "      <td>36.098414</td>\n",
       "      <td>-87.096259</td>\n",
       "      <td>2020-03-01</td>\n",
       "      <td>NaN</td>\n",
       "      <td>NaN</td>\n",
       "      <td>NaN</td>\n",
       "    </tr>\n",
       "    <tr>\n",
       "      <th>1</th>\n",
       "      <td>US1TNCH0002</td>\n",
       "      <td>KINGSTON SPRINGS 0.3 ENE, TN US</td>\n",
       "      <td>36.098414</td>\n",
       "      <td>-87.096259</td>\n",
       "      <td>2020-03-02</td>\n",
       "      <td>NaN</td>\n",
       "      <td>NaN</td>\n",
       "      <td>NaN</td>\n",
       "    </tr>\n",
       "    <tr>\n",
       "      <th>2</th>\n",
       "      <td>US1TNCH0002</td>\n",
       "      <td>KINGSTON SPRINGS 0.3 ENE, TN US</td>\n",
       "      <td>36.098414</td>\n",
       "      <td>-87.096259</td>\n",
       "      <td>2020-03-03</td>\n",
       "      <td>NaN</td>\n",
       "      <td>NaN</td>\n",
       "      <td>NaN</td>\n",
       "    </tr>\n",
       "    <tr>\n",
       "      <th>3</th>\n",
       "      <td>US1TNCH0002</td>\n",
       "      <td>KINGSTON SPRINGS 0.3 ENE, TN US</td>\n",
       "      <td>36.098414</td>\n",
       "      <td>-87.096259</td>\n",
       "      <td>2020-03-04</td>\n",
       "      <td>NaN</td>\n",
       "      <td>NaN</td>\n",
       "      <td>NaN</td>\n",
       "    </tr>\n",
       "    <tr>\n",
       "      <th>4</th>\n",
       "      <td>US1TNCH0002</td>\n",
       "      <td>KINGSTON SPRINGS 0.3 ENE, TN US</td>\n",
       "      <td>36.098414</td>\n",
       "      <td>-87.096259</td>\n",
       "      <td>2020-03-05</td>\n",
       "      <td>NaN</td>\n",
       "      <td>NaN</td>\n",
       "      <td>NaN</td>\n",
       "    </tr>\n",
       "  </tbody>\n",
       "</table>\n",
       "</div>"
      ],
      "text/plain": [
       "       STATION                             NAME   LATITUDE  LONGITUDE  \\\n",
       "0  US1TNCH0002  KINGSTON SPRINGS 0.3 ENE, TN US  36.098414 -87.096259   \n",
       "1  US1TNCH0002  KINGSTON SPRINGS 0.3 ENE, TN US  36.098414 -87.096259   \n",
       "2  US1TNCH0002  KINGSTON SPRINGS 0.3 ENE, TN US  36.098414 -87.096259   \n",
       "3  US1TNCH0002  KINGSTON SPRINGS 0.3 ENE, TN US  36.098414 -87.096259   \n",
       "4  US1TNCH0002  KINGSTON SPRINGS 0.3 ENE, TN US  36.098414 -87.096259   \n",
       "\n",
       "        DATE  temp_avg  temp_max  temp_min  \n",
       "0 2020-03-01       NaN       NaN       NaN  \n",
       "1 2020-03-02       NaN       NaN       NaN  \n",
       "2 2020-03-03       NaN       NaN       NaN  \n",
       "3 2020-03-04       NaN       NaN       NaN  \n",
       "4 2020-03-05       NaN       NaN       NaN  "
      ]
     },
     "execution_count": 16,
     "metadata": {},
     "output_type": "execute_result"
    }
   ],
   "source": [
    "nash_date_group = nash_weather.groupby('DATE')\n",
    "temp_max_mean = nash_weather.groupby('DATE', as_index = False)['temp_max'].mean()\n",
    "nash_weather.head()"
   ]
  },
  {
   "cell_type": "code",
   "execution_count": 53,
   "metadata": {
    "scrolled": true
   },
   "outputs": [
    {
     "name": "stdout",
     "output_type": "stream",
     "text": [
      "          DATE  temp_avg\n",
      "0   2020-03-01      50.0\n",
      "1   2020-03-02      55.5\n",
      "2   2020-03-03      60.0\n",
      "3   2020-03-04      54.0\n",
      "4   2020-03-05      54.0\n",
      "..         ...       ...\n",
      "407 2021-04-12      65.0\n",
      "408 2021-04-13      63.0\n",
      "409 2021-04-14      57.0\n",
      "410 2021-04-15      54.5\n",
      "411 2021-04-16      54.0\n",
      "\n",
      "[412 rows x 2 columns]\n",
      "          DATE  temp_avg\n",
      "0   2020-03-01      50.0\n",
      "1   2020-03-02      55.5\n",
      "2   2020-03-03      60.0\n",
      "3   2020-03-04      54.0\n",
      "4   2020-03-05      54.0\n",
      "..         ...       ...\n",
      "407 2021-04-12      65.0\n",
      "408 2021-04-13      63.0\n",
      "409 2021-04-14      57.0\n",
      "410 2021-04-15      54.5\n",
      "411 2021-04-16      54.0\n",
      "\n",
      "[412 rows x 2 columns]\n"
     ]
    }
   ],
   "source": [
    "temp_mean = nash_weather.groupby('DATE', as_index = False)['temp_avg'].mean()\n",
    "print(temp_mean)\n",
    "temp_mean['DATE'] = pd.to_datetime(temp_mean['DATE'])\n",
    "temp_mean['DATE'] = temp_mean['DATE'].dt.normalize()\n",
    "print(temp_mean)"
   ]
  },
  {
   "cell_type": "code",
   "execution_count": 18,
   "metadata": {},
   "outputs": [
    {
     "name": "stdout",
     "output_type": "stream",
     "text": [
      "          DATE   temp_max\n",
      "0   2020-03-01  53.833333\n",
      "1   2020-03-02  67.166667\n",
      "2   2020-03-03  64.277778\n",
      "3   2020-03-04  65.315789\n",
      "4   2020-03-05  64.157895\n",
      "..         ...        ...\n",
      "407 2021-04-12  74.071429\n",
      "408 2021-04-13  76.916667\n",
      "409 2021-04-14  71.076923\n",
      "410 2021-04-15  62.666667\n",
      "411 2021-04-16  62.437500\n",
      "\n",
      "[412 rows x 2 columns]\n",
      "          DATE  temp_avg\n",
      "0   2020-03-01      50.0\n",
      "1   2020-03-02      55.5\n",
      "2   2020-03-03      60.0\n",
      "3   2020-03-04      54.0\n",
      "4   2020-03-05      54.0\n",
      "..         ...       ...\n",
      "407 2021-04-12      65.0\n",
      "408 2021-04-13      63.0\n",
      "409 2021-04-14      57.0\n",
      "410 2021-04-15      54.5\n",
      "411 2021-04-16      54.0\n",
      "\n",
      "[412 rows x 2 columns]\n"
     ]
    }
   ],
   "source": [
    "temp_max = nash_weather.groupby('DATE', as_index = False)['temp_max'].mean()\n",
    "print(temp_max)\n",
    "temp_max['DATE'] = pd.to_datetime(temp_max['DATE'])\n",
    "print(temp_mean)"
   ]
  },
  {
   "cell_type": "code",
   "execution_count": 19,
   "metadata": {},
   "outputs": [
    {
     "name": "stdout",
     "output_type": "stream",
     "text": [
      "          DATE   temp_min\n",
      "0   2020-03-01  28.833333\n",
      "1   2020-03-02  36.611111\n",
      "2   2020-03-03  48.166667\n",
      "3   2020-03-04  40.631579\n",
      "4   2020-03-05  40.842105\n",
      "..         ...        ...\n",
      "407 2021-04-12  47.285714\n",
      "408 2021-04-13  49.416667\n",
      "409 2021-04-14  50.000000\n",
      "410 2021-04-15  47.066667\n",
      "411 2021-04-16  38.062500\n",
      "\n",
      "[412 rows x 2 columns]\n",
      "          DATE   temp_min\n",
      "0   2020-03-01  28.833333\n",
      "1   2020-03-02  36.611111\n",
      "2   2020-03-03  48.166667\n",
      "3   2020-03-04  40.631579\n",
      "4   2020-03-05  40.842105\n",
      "..         ...        ...\n",
      "407 2021-04-12  47.285714\n",
      "408 2021-04-13  49.416667\n",
      "409 2021-04-14  50.000000\n",
      "410 2021-04-15  47.066667\n",
      "411 2021-04-16  38.062500\n",
      "\n",
      "[412 rows x 2 columns]\n"
     ]
    }
   ],
   "source": [
    "temp_min = nash_weather.groupby('DATE', as_index = False)['temp_min'].mean()\n",
    "print(temp_min)\n",
    "temp_min['DATE'] = pd.to_datetime(temp_min['DATE'])\n",
    "print(temp_min)"
   ]
  },
  {
   "cell_type": "raw",
   "metadata": {},
   "source": [
    "Overlevel view of average 'Max' and 'Min' temp over the course of the year"
   ]
  },
  {
   "cell_type": "code",
   "execution_count": 20,
   "metadata": {},
   "outputs": [
    {
     "data": {
      "image/png": "[encoded data removed]",
      "text/plain": [
       "<Figure size 432x288 with 1 Axes>"
      ]
     },
     "metadata": {
      "needs_background": "light"
     },
     "output_type": "display_data"
    }
   ],
   "source": [
    "ax = sns.lineplot(x='DATE', y='temp_avg', data=temp_mean)"
   ]
  },
  {
   "cell_type": "code",
   "execution_count": 123,
   "metadata": {
    "scrolled": true
   },
   "outputs": [
    {
     "name": "stdout",
     "output_type": "stream",
     "text": [
      "          date  cases\n",
      "0   2020-03-06      1\n",
      "1   2020-03-10      1\n",
      "2   2020-03-11     11\n",
      "3   2020-03-12      8\n",
      "4   2020-03-13     18\n",
      "..         ...    ...\n",
      "379 2021-03-23    154\n",
      "380 2021-03-24    177\n",
      "381 2021-03-25    137\n",
      "382 2021-03-26     96\n",
      "383 2021-03-27     18\n",
      "\n",
      "[384 rows x 2 columns]\n"
     ]
    }
   ],
   "source": [
    "covid_group_date = covid_cases.groupby('date', as_index = False)['cases'].sum()\n",
    "covid_group_date['date'] = pd.to_datetime(covid_group_date['date'])\n",
    "covid_group_date['date'] = covid_group_date['date'].dt.normalize()\n",
    "covid_group_date.reset_index()\n",
    "print(covid_group_date)"
   ]
  },
  {
   "cell_type": "code",
   "execution_count": 22,
   "metadata": {},
   "outputs": [
    {
     "data": {
      "image/png": "[encoded data removed]",
      "text/plain": [
       "<Figure size 432x288 with 1 Axes>"
      ]
     },
     "metadata": {
      "needs_background": "light"
     },
     "output_type": "display_data"
    }
   ],
   "source": [
    "ax = sns.scatterplot(x='date', y='cases', data=covid_group_date)"
   ]
  },
  {
   "cell_type": "markdown",
   "metadata": {},
   "source": [
    "# Avg temp is the line plot on top of covid cases as bar plot"
   ]
  },
  {
   "cell_type": "code",
   "execution_count": 105,
   "metadata": {},
   "outputs": [],
   "source": [
    "sns.reset_orig()"
   ]
  },
  {
   "cell_type": "code",
   "execution_count": 107,
   "metadata": {},
   "outputs": [
    {
     "name": "stdout",
     "output_type": "stream",
     "text": [
      "2020-03-06 00:00:00\n",
      "2021-03-27 00:00:00\n",
      "2020-03-01 00:00:00\n",
      "2021-04-16 00:00:00\n"
     ]
    }
   ],
   "source": [
    "print(covid_group_date['date'].min())\n",
    "print(covid_group_date['date'].max())\n",
    "\n",
    "print(temp_mean['DATE'].min())\n",
    "print(temp_mean['DATE'].max())"
   ]
  },
  {
   "cell_type": "code",
   "execution_count": 120,
   "metadata": {},
   "outputs": [
    {
     "name": "stderr",
     "output_type": "stream",
     "text": [
      "No handles with labels found to put in legend.\n"
     ]
    },
    {
     "data": {
      "text/plain": [
       "''"
      ]
     },
     "execution_count": 120,
     "metadata": {},
     "output_type": "execute_result"
    },
    {
     "data": {
      "image/png": "[encoded data removed]",
      "text/plain": [
       "<Figure size 1440x648 with 2 Axes>"
      ]
     },
     "metadata": {
      "needs_background": "light"
     },
     "output_type": "display_data"
    }
   ],
   "source": [
    "fig, ax1 = plt.subplots(figsize=(20,9))\n",
    "\n",
    "sns.lineplot(data =temp_mean['temp_avg'], marker='o', sort = False,label='Average Temp',ax=ax1)\n",
    "ax2 = ax1.twinx()\n",
    "sns.barplot(data = covid_group_date, x=covid_group_date.index.values, y='cases', alpha=0.5,ax=ax2)\n",
    "\n",
    "ax2.xaxis.set_major_locator(mdates.MonthLocator(interval=1))\n",
    "ax2.xaxis.set_major_formatter(mdates.DateFormatter('%b - %y'))\n",
    "\n",
    "ax.legend()\n",
    "\n",
    "\n",
    "plt.savefig('../assets/covid_weather.png')\n",
    ";"
   ]
  },
  {
   "cell_type": "code",
   "execution_count": 124,
   "metadata": {},
   "outputs": [
    {
     "name": "stderr",
     "output_type": "stream",
     "text": [
      "No handles with labels found to put in legend.\n"
     ]
    },
    {
     "data": {
      "text/plain": [
       "''"
      ]
     },
     "execution_count": 124,
     "metadata": {},
     "output_type": "execute_result"
    },
    {
     "data": {
      "image/png": "[encoded data removed]",
      "text/plain": [
       "<Figure size 1440x648 with 1 Axes>"
      ]
     },
     "metadata": {
      "needs_background": "light"
     },
     "output_type": "display_data"
    }
   ],
   "source": [
    "fig, ax1 = plt.subplots(figsize=(20,9))\n",
    "\n",
    "\n",
    "sns.barplot(data = covid_group_date, x=covid_group_date.index.values, y='cases', alpha=0.5)\n",
    "fig.autofmt_xdate()\n",
    "\n",
    "ax.legend()\n",
    "\n",
    "\n",
    "# plt.savefig('../assets/covid_weather.png')\n",
    ";"
   ]
  },
  {
   "cell_type": "code",
   "execution_count": 94,
   "metadata": {},
   "outputs": [
    {
     "ename": "AttributeError",
     "evalue": "'Series' object has no attribute 'range'",
     "output_type": "error",
     "traceback": [
      "\u001b[1;31m---------------------------------------------------------------------------\u001b[0m",
      "\u001b[1;31mAttributeError\u001b[0m                            Traceback (most recent call last)",
      "\u001b[1;32m<ipython-input-94-bef013a2e616>\u001b[0m in \u001b[0;36m<module>\u001b[1;34m\u001b[0m\n\u001b[1;32m----> 1\u001b[1;33m \u001b[0mcases_merge_temp\u001b[0m\u001b[1;33m[\u001b[0m\u001b[1;34m'date'\u001b[0m\u001b[1;33m]\u001b[0m\u001b[1;33m.\u001b[0m\u001b[0mrange\u001b[0m\u001b[1;33m(\u001b[0m\u001b[1;33m)\u001b[0m\u001b[1;33m\u001b[0m\u001b[1;33m\u001b[0m\u001b[0m\n\u001b[0m",
      "\u001b[1;32m~\\anaconda3\\lib\\site-packages\\pandas\\core\\generic.py\u001b[0m in \u001b[0;36m__getattr__\u001b[1;34m(self, name)\u001b[0m\n\u001b[0;32m   5137\u001b[0m             \u001b[1;32mif\u001b[0m \u001b[0mself\u001b[0m\u001b[1;33m.\u001b[0m\u001b[0m_info_axis\u001b[0m\u001b[1;33m.\u001b[0m\u001b[0m_can_hold_identifiers_and_holds_name\u001b[0m\u001b[1;33m(\u001b[0m\u001b[0mname\u001b[0m\u001b[1;33m)\u001b[0m\u001b[1;33m:\u001b[0m\u001b[1;33m\u001b[0m\u001b[1;33m\u001b[0m\u001b[0m\n\u001b[0;32m   5138\u001b[0m                 \u001b[1;32mreturn\u001b[0m \u001b[0mself\u001b[0m\u001b[1;33m[\u001b[0m\u001b[0mname\u001b[0m\u001b[1;33m]\u001b[0m\u001b[1;33m\u001b[0m\u001b[1;33m\u001b[0m\u001b[0m\n\u001b[1;32m-> 5139\u001b[1;33m             \u001b[1;32mreturn\u001b[0m \u001b[0mobject\u001b[0m\u001b[1;33m.\u001b[0m\u001b[0m__getattribute__\u001b[0m\u001b[1;33m(\u001b[0m\u001b[0mself\u001b[0m\u001b[1;33m,\u001b[0m \u001b[0mname\u001b[0m\u001b[1;33m)\u001b[0m\u001b[1;33m\u001b[0m\u001b[1;33m\u001b[0m\u001b[0m\n\u001b[0m\u001b[0;32m   5140\u001b[0m \u001b[1;33m\u001b[0m\u001b[0m\n\u001b[0;32m   5141\u001b[0m     \u001b[1;32mdef\u001b[0m \u001b[0m__setattr__\u001b[0m\u001b[1;33m(\u001b[0m\u001b[0mself\u001b[0m\u001b[1;33m,\u001b[0m \u001b[0mname\u001b[0m\u001b[1;33m:\u001b[0m \u001b[0mstr\u001b[0m\u001b[1;33m,\u001b[0m \u001b[0mvalue\u001b[0m\u001b[1;33m)\u001b[0m \u001b[1;33m->\u001b[0m \u001b[1;32mNone\u001b[0m\u001b[1;33m:\u001b[0m\u001b[1;33m\u001b[0m\u001b[1;33m\u001b[0m\u001b[0m\n",
      "\u001b[1;31mAttributeError\u001b[0m: 'Series' object has no attribute 'range'"
     ]
    }
   ],
   "source": [
    "cases_merge_temp['date'].range()"
   ]
  },
  {
   "cell_type": "code",
   "execution_count": 72,
   "metadata": {
    "scrolled": true
   },
   "outputs": [
    {
     "data": {
      "text/html": [
       "<div>\n",
       "<style scoped>\n",
       "    .dataframe tbody tr th:only-of-type {\n",
       "        vertical-align: middle;\n",
       "    }\n",
       "\n",
       "    .dataframe tbody tr th {\n",
       "        vertical-align: top;\n",
       "    }\n",
       "\n",
       "    .dataframe thead th {\n",
       "        text-align: right;\n",
       "    }\n",
       "</style>\n",
       "<table border=\"1\" class=\"dataframe\">\n",
       "  <thead>\n",
       "    <tr style=\"text-align: right;\">\n",
       "      <th></th>\n",
       "      <th>date</th>\n",
       "      <th>cases</th>\n",
       "      <th>temp_avg</th>\n",
       "      <th>temp_max</th>\n",
       "      <th>temp_min</th>\n",
       "      <th>month_year</th>\n",
       "    </tr>\n",
       "  </thead>\n",
       "  <tbody>\n",
       "    <tr>\n",
       "      <th>0</th>\n",
       "      <td>2020-03-06</td>\n",
       "      <td>1</td>\n",
       "      <td>47.5</td>\n",
       "      <td>62.705882</td>\n",
       "      <td>40.352941</td>\n",
       "      <td>Mar - 20</td>\n",
       "    </tr>\n",
       "    <tr>\n",
       "      <th>1</th>\n",
       "      <td>2020-03-10</td>\n",
       "      <td>1</td>\n",
       "      <td>59.5</td>\n",
       "      <td>65.842105</td>\n",
       "      <td>49.052632</td>\n",
       "      <td>Mar - 20</td>\n",
       "    </tr>\n",
       "    <tr>\n",
       "      <th>2</th>\n",
       "      <td>2020-03-11</td>\n",
       "      <td>11</td>\n",
       "      <td>52.5</td>\n",
       "      <td>66.263158</td>\n",
       "      <td>43.473684</td>\n",
       "      <td>Mar - 20</td>\n",
       "    </tr>\n",
       "    <tr>\n",
       "      <th>3</th>\n",
       "      <td>2020-03-12</td>\n",
       "      <td>8</td>\n",
       "      <td>62.5</td>\n",
       "      <td>63.052632</td>\n",
       "      <td>45.052632</td>\n",
       "      <td>Mar - 20</td>\n",
       "    </tr>\n",
       "    <tr>\n",
       "      <th>4</th>\n",
       "      <td>2020-03-13</td>\n",
       "      <td>18</td>\n",
       "      <td>58.0</td>\n",
       "      <td>71.578947</td>\n",
       "      <td>52.736842</td>\n",
       "      <td>Mar - 20</td>\n",
       "    </tr>\n",
       "  </tbody>\n",
       "</table>\n",
       "</div>"
      ],
      "text/plain": [
       "        date  cases  temp_avg   temp_max   temp_min month_year\n",
       "0 2020-03-06      1      47.5  62.705882  40.352941   Mar - 20\n",
       "1 2020-03-10      1      59.5  65.842105  49.052632   Mar - 20\n",
       "2 2020-03-11     11      52.5  66.263158  43.473684   Mar - 20\n",
       "3 2020-03-12      8      62.5  63.052632  45.052632   Mar - 20\n",
       "4 2020-03-13     18      58.0  71.578947  52.736842   Mar - 20"
      ]
     },
     "execution_count": 72,
     "metadata": {},
     "output_type": "execute_result"
    }
   ],
   "source": [
    "cases_merge_temp['month_year'] = pd.to_datetime(cases_merge_temp['date']).dt.strftime('%b - %y')\n",
    "cases_merge_temp.head()"
   ]
  },
  {
   "cell_type": "code",
   "execution_count": 89,
   "metadata": {},
   "outputs": [
    {
     "data": {
      "image/png": "[encoded data removed]",
      "text/plain": [
       "<Figure size 1440x648 with 1 Axes>"
      ]
     },
     "metadata": {
      "needs_background": "light"
     },
     "output_type": "display_data"
    }
   ],
   "source": [
    "fig, ax = plt.subplots(figsize=(20,9))\n",
    "\n",
    "cases_merge_temp['DOB'] = pd.to_datetime(cases_merge_temp['date']).dt.strftime('%Y-%m-%d')\n",
    "\n",
    "dates=[dt.datetime.strptime(d,'%Y-%m-%d').date() for d in cases_merge_temp['DOB']]\n",
    "\n",
    "plt.gca().xaxis.set_major_formatter(mdates.DateFormatter('%m/%d/%Y'))\n",
    "plt.gca().xaxis.set_major_locator(mdates.MonthLocator(interval=2))\n",
    "plt.bar(dates,cases_merge_temp['cases'],align='center')\n",
    "plt.gca().xaxis.set_minor_locator(plt.MultipleLocator(1))\n",
    "plt.gcf().autofmt_xdate()\n",
    "plt.show()"
   ]
  },
  {
   "cell_type": "code",
   "execution_count": 24,
   "metadata": {},
   "outputs": [
    {
     "data": {
      "text/plain": [
       "<AxesSubplot:label='7fc665b4-ac12-4c1d-9e65-b76c7a577dae', xlabel='date', ylabel='cases'>"
      ]
     },
     "execution_count": 24,
     "metadata": {},
     "output_type": "execute_result"
    }
   ],
   "source": [
    "sns.barplot(data = covid_group_date, x='date', y='cases', alpha=0.5, ax=ax2)"
   ]
  },
  {
   "cell_type": "code",
   "execution_count": 25,
   "metadata": {},
   "outputs": [],
   "source": [
    "cases_merge_temp = covid_group_date.merge(temp_mean, left_on='date', right_on='DATE', how='left')\n",
    "cases_merge_temp = cases_merge_temp.merge(temp_max, left_on='date', right_on='DATE', how='left')\n",
    "cases_merge_temp = cases_merge_temp.merge(temp_min, left_on='date', right_on='DATE', how='left')\n"
   ]
  },
  {
   "cell_type": "code",
   "execution_count": 26,
   "metadata": {},
   "outputs": [],
   "source": [
    "cases_merge_temp = cases_merge_temp[['date', 'cases', 'temp_avg', 'temp_max', 'temp_min']]"
   ]
  },
  {
   "cell_type": "code",
   "execution_count": 30,
   "metadata": {},
   "outputs": [
    {
     "data": {
      "text/html": [
       "<div>\n",
       "<style scoped>\n",
       "    .dataframe tbody tr th:only-of-type {\n",
       "        vertical-align: middle;\n",
       "    }\n",
       "\n",
       "    .dataframe tbody tr th {\n",
       "        vertical-align: top;\n",
       "    }\n",
       "\n",
       "    .dataframe thead th {\n",
       "        text-align: right;\n",
       "    }\n",
       "</style>\n",
       "<table border=\"1\" class=\"dataframe\">\n",
       "  <thead>\n",
       "    <tr style=\"text-align: right;\">\n",
       "      <th></th>\n",
       "      <th>cases</th>\n",
       "      <th>temp_avg</th>\n",
       "      <th>temp_max</th>\n",
       "      <th>temp_min</th>\n",
       "    </tr>\n",
       "  </thead>\n",
       "  <tbody>\n",
       "    <tr>\n",
       "      <th>cases</th>\n",
       "      <td>1.000000</td>\n",
       "      <td>-0.302521</td>\n",
       "      <td>-0.276429</td>\n",
       "      <td>-0.308928</td>\n",
       "    </tr>\n",
       "    <tr>\n",
       "      <th>temp_avg</th>\n",
       "      <td>-0.302521</td>\n",
       "      <td>1.000000</td>\n",
       "      <td>0.963877</td>\n",
       "      <td>0.949498</td>\n",
       "    </tr>\n",
       "    <tr>\n",
       "      <th>temp_max</th>\n",
       "      <td>-0.276429</td>\n",
       "      <td>0.963877</td>\n",
       "      <td>1.000000</td>\n",
       "      <td>0.927873</td>\n",
       "    </tr>\n",
       "    <tr>\n",
       "      <th>temp_min</th>\n",
       "      <td>-0.308928</td>\n",
       "      <td>0.949498</td>\n",
       "      <td>0.927873</td>\n",
       "      <td>1.000000</td>\n",
       "    </tr>\n",
       "  </tbody>\n",
       "</table>\n",
       "</div>"
      ],
      "text/plain": [
       "             cases  temp_avg  temp_max  temp_min\n",
       "cases     1.000000 -0.302521 -0.276429 -0.308928\n",
       "temp_avg -0.302521  1.000000  0.963877  0.949498\n",
       "temp_max -0.276429  0.963877  1.000000  0.927873\n",
       "temp_min -0.308928  0.949498  0.927873  1.000000"
      ]
     },
     "execution_count": 30,
     "metadata": {},
     "output_type": "execute_result"
    }
   ],
   "source": [
    "cases_merge_temp.corr()"
   ]
  },
  {
   "cell_type": "code",
   "execution_count": 27,
   "metadata": {},
   "outputs": [
    {
     "data": {
      "image/png": "[encoded data removed]",
      "text/plain": [
       "<Figure size 432x432 with 2 Axes>"
      ]
     },
     "metadata": {
      "needs_background": "light"
     },
     "output_type": "display_data"
    }
   ],
   "source": [
    "fig, ax = plt.subplots(figsize=(6, 6))\n",
    "\n",
    "corr = cases_merge_temp.corr()\n",
    "# create a custom diverging colormap\n",
    "cmap = sns.diverging_palette(220, 10, as_cmap=True)\n",
    "\n",
    "# Generate a mask for the upper triangle\n",
    "mask = np.zeros_like(corr, dtype=np.bool)\n",
    "mask[np.triu_indices_from(mask)] = True\n",
    "\n",
    "# Draw the heatmap with the mask and correct aspect ratio\n",
    "sns.heatmap(corr, cmap=cmap, mask = mask, center=0,\n",
    "            square=True, linewidths=.5, cbar_kws={\"shrink\": .5});"
   ]
  },
  {
   "cell_type": "code",
   "execution_count": 28,
   "metadata": {
    "scrolled": true
   },
   "outputs": [
    {
     "data": {
      "text/html": [
       "<div>\n",
       "<style scoped>\n",
       "    .dataframe tbody tr th:only-of-type {\n",
       "        vertical-align: middle;\n",
       "    }\n",
       "\n",
       "    .dataframe tbody tr th {\n",
       "        vertical-align: top;\n",
       "    }\n",
       "\n",
       "    .dataframe thead th {\n",
       "        text-align: right;\n",
       "    }\n",
       "</style>\n",
       "<table border=\"1\" class=\"dataframe\">\n",
       "  <thead>\n",
       "    <tr style=\"text-align: right;\">\n",
       "      <th></th>\n",
       "      <th>date</th>\n",
       "      <th>cases</th>\n",
       "      <th>temp_avg</th>\n",
       "      <th>temp_max</th>\n",
       "      <th>temp_min</th>\n",
       "    </tr>\n",
       "  </thead>\n",
       "  <tbody>\n",
       "    <tr>\n",
       "      <th>0</th>\n",
       "      <td>2020-03-06</td>\n",
       "      <td>1</td>\n",
       "      <td>47.5</td>\n",
       "      <td>62.705882</td>\n",
       "      <td>40.352941</td>\n",
       "    </tr>\n",
       "    <tr>\n",
       "      <th>1</th>\n",
       "      <td>2020-03-10</td>\n",
       "      <td>1</td>\n",
       "      <td>59.5</td>\n",
       "      <td>65.842105</td>\n",
       "      <td>49.052632</td>\n",
       "    </tr>\n",
       "    <tr>\n",
       "      <th>2</th>\n",
       "      <td>2020-03-11</td>\n",
       "      <td>11</td>\n",
       "      <td>52.5</td>\n",
       "      <td>66.263158</td>\n",
       "      <td>43.473684</td>\n",
       "    </tr>\n",
       "    <tr>\n",
       "      <th>3</th>\n",
       "      <td>2020-03-12</td>\n",
       "      <td>8</td>\n",
       "      <td>62.5</td>\n",
       "      <td>63.052632</td>\n",
       "      <td>45.052632</td>\n",
       "    </tr>\n",
       "    <tr>\n",
       "      <th>4</th>\n",
       "      <td>2020-03-13</td>\n",
       "      <td>18</td>\n",
       "      <td>58.0</td>\n",
       "      <td>71.578947</td>\n",
       "      <td>52.736842</td>\n",
       "    </tr>\n",
       "    <tr>\n",
       "      <th>...</th>\n",
       "      <td>...</td>\n",
       "      <td>...</td>\n",
       "      <td>...</td>\n",
       "      <td>...</td>\n",
       "      <td>...</td>\n",
       "    </tr>\n",
       "    <tr>\n",
       "      <th>379</th>\n",
       "      <td>2021-03-23</td>\n",
       "      <td>154</td>\n",
       "      <td>60.5</td>\n",
       "      <td>69.312500</td>\n",
       "      <td>47.714286</td>\n",
       "    </tr>\n",
       "    <tr>\n",
       "      <th>380</th>\n",
       "      <td>2021-03-24</td>\n",
       "      <td>177</td>\n",
       "      <td>63.5</td>\n",
       "      <td>66.923077</td>\n",
       "      <td>54.384615</td>\n",
       "    </tr>\n",
       "    <tr>\n",
       "      <th>381</th>\n",
       "      <td>2021-03-25</td>\n",
       "      <td>137</td>\n",
       "      <td>62.5</td>\n",
       "      <td>75.285714</td>\n",
       "      <td>51.071429</td>\n",
       "    </tr>\n",
       "    <tr>\n",
       "      <th>382</th>\n",
       "      <td>2021-03-26</td>\n",
       "      <td>96</td>\n",
       "      <td>61.5</td>\n",
       "      <td>72.142857</td>\n",
       "      <td>48.642857</td>\n",
       "    </tr>\n",
       "    <tr>\n",
       "      <th>383</th>\n",
       "      <td>2021-03-27</td>\n",
       "      <td>18</td>\n",
       "      <td>59.5</td>\n",
       "      <td>71.769231</td>\n",
       "      <td>48.153846</td>\n",
       "    </tr>\n",
       "  </tbody>\n",
       "</table>\n",
       "<p>384 rows × 5 columns</p>\n",
       "</div>"
      ],
      "text/plain": [
       "          date  cases  temp_avg   temp_max   temp_min\n",
       "0   2020-03-06      1      47.5  62.705882  40.352941\n",
       "1   2020-03-10      1      59.5  65.842105  49.052632\n",
       "2   2020-03-11     11      52.5  66.263158  43.473684\n",
       "3   2020-03-12      8      62.5  63.052632  45.052632\n",
       "4   2020-03-13     18      58.0  71.578947  52.736842\n",
       "..         ...    ...       ...        ...        ...\n",
       "379 2021-03-23    154      60.5  69.312500  47.714286\n",
       "380 2021-03-24    177      63.5  66.923077  54.384615\n",
       "381 2021-03-25    137      62.5  75.285714  51.071429\n",
       "382 2021-03-26     96      61.5  72.142857  48.642857\n",
       "383 2021-03-27     18      59.5  71.769231  48.153846\n",
       "\n",
       "[384 rows x 5 columns]"
      ]
     },
     "execution_count": 28,
     "metadata": {},
     "output_type": "execute_result"
    }
   ],
   "source": [
    "cases_merge_temp"
   ]
  },
  {
   "cell_type": "code",
   "execution_count": 29,
   "metadata": {},
   "outputs": [
    {
     "data": {
      "image/png": "[encoded data removed]",
      "text/plain": [
       "<Figure size 1440x648 with 1 Axes>"
      ]
     },
     "metadata": {
      "needs_background": "light"
     },
     "output_type": "display_data"
    }
   ],
   "source": [
    "fig, ax = plt.subplots(figsize=(20,9))\n",
    "ax = sns.boxplot(x=\"DATE\", y=\"temp_avg\", data=nash_weather)\n",
    "\n",
    "ax.xaxis.set_major_locator(mdates.DayLocator(bymonthday=1))\n",
    "ax.xaxis.set_major_formatter(mdates.DateFormatter('%b-%d'));"
   ]
  },
  {
   "cell_type": "markdown",
   "metadata": {},
   "source": [
    "events = {'Name': ['Memorial Day', 'Labor Day', 'Thanksgiving', 'Christmas'],\n",
    "          'Date': ['2020-05-25','2020-09-07','2020-11-25','2020-12-25'],\n",
    "          'Count':[1,1,1,1]\n",
    "         }\n",
    "\n",
    "events_df = pd.DataFrame(events, columns = ['Name', 'Date', 'Count'])\n",
    "events_df['Date'] = pd.to_datetime(events_df['Date'])\n",
    "\n",
    "events_df['Date'].dtype\n",
    "\n"
   ]
  },
  {
   "cell_type": "markdown",
   "metadata": {},
   "source": [
    "covid_group_date = covid_cases.groupby('date', as_index = False)['cases'].sum()\n",
    "covid_group_date['date'].dtype\n"
   ]
  },
  {
   "cell_type": "markdown",
   "metadata": {},
   "source": [
    "# create figure and axis objects with subplots()\n",
    "fig, ax = plt.subplots(figsize=(20,9))\n",
    "\n",
    "# make a plot\n",
    "ax.plot(covid_group_date.date, covid_group_date.cases, color=\"blue\", alpha=0.5, marker = 'o')\n",
    "# set x-axis label\n",
    "ax.set_xlabel(\"Date\",fontsize=14)\n",
    "# set y-axis label\n",
    "ax.set_ylabel(\"cases\",fontsize=14)\n",
    "\n",
    "# twin object for two different y-axis on the sample plot\n",
    "ax2=ax.twinx()\n",
    "# make a plot with different y-axis using second axis object\n",
    "ax2.bar(events_df.Date, events_df[\"Count\"], color=['red', 'green', 'orange', 'black'], width=1.5 )\n",
    "ax2.legend()\n",
    "\n",
    "ax.xaxis.set_major_locator(mdates.DayLocator(bymonthday=1))\n",
    "ax.xaxis.set_major_formatter(mdates.DateFormatter('%b %y'))"
   ]
  },
  {
   "cell_type": "markdown",
   "metadata": {},
   "source": [
    "fig, ax = plt.subplots(figsize=(20,9))\n",
    "\n",
    "sns.barplot(data = events_df,x='Date',y='Count', hue = 'Name', ax=ax)\n",
    "ax2 = ax.twinx()\n",
    "sns.barplot(data = covid_group_date, x='date', y='cases', alpha=0.5, ax = ax2)\n",
    "\n",
    "ax2.xaxis.set_major_locator(mdates.DayLocator(bymonthday=1))\n",
    "ax2.xaxis.set_major_formatter(mdates.DateFormatter('%b %y'))\n",
    ";"
   ]
  },
  {
   "cell_type": "markdown",
   "metadata": {},
   "source": [
    "## Reading Metadata function. From Joshua Rio-Ross\n",
    "Basically, each table’s metadata.json is a dictionary with subdictionaries (as I’m sure you already saw), so I wrote a function that drills down to the right depth and gets each column name and stores it in a list in order, then finally it uses that list to rename the columns in the geodataframe/dataframe.  \n",
    "\n",
    "One important thing: The tablename is the Census Reporter name that you see in the top left part of the page and that’s at the beginning of all the column names. So it’s a string that’s something like “B09001” or whatever.  \n",
    "\n"
   ]
  },
  {
   "cell_type": "markdown",
   "metadata": {},
   "source": [
    "def metarename(file, metadata, tablename):\n",
    "    \"\"\"Given a Census Reporter file and its metadata, rename all imported DataFrame columns.\"\"\"\n",
    "    name_list = [\"geoid\", \"zip\"]\n",
    "    for i in metadata[\"tables\"][tablename][\"columns\"].items():\n",
    "        col_name = i[1][\"name\"]\n",
    "        col_name_error = i[1][\"name\"]+\" error\"\n",
    "        name_list.append(col_name)\n",
    "        name_list.append(col_name_error)\n",
    "    name_list.append(\"geometry\")\n",
    "    file.columns = name_list\n",
    "    return file\n",
    "\n",
    "# Read in GeoDataFrame from geojson\n",
    "eth_geo_df = gpd.read_file('../data/ethnicity_geojson/ehtnicity_geo.geojson')\n",
    "# Read in metadata DataFrame from json using json package\n",
    "er_md = open('../data/ethnicity_geojson/metadata.json')\n",
    "eth_race_meta = json.load(er_md)\n",
    "# Run function using table name \"B03002\"\n",
    "fdf = metarename(eth_geo_df, eth_race_meta, \"B03002\")"
   ]
  },
  {
   "cell_type": "markdown",
   "metadata": {},
   "source": [
    "fdf['zip'].value_counts"
   ]
  },
  {
   "cell_type": "code",
   "execution_count": null,
   "metadata": {},
   "outputs": [],
   "source": []
  }
 ],
 "metadata": {
  "kernelspec": {
   "display_name": "Python 3",
   "language": "python",
   "name": "python3"
  },
  "language_info": {
   "codemirror_mode": {
    "name": "ipython",
    "version": 3
   },
   "file_extension": ".py",
   "mimetype": "text/x-python",
   "name": "python",
   "nbconvert_exporter": "python",
   "pygments_lexer": "ipython3",
   "version": "3.8.5"
  }
 },
 "nbformat": 4,
 "nbformat_minor": 4
}
