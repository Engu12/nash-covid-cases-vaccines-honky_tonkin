{
 "cells": [
  {
   "cell_type": "code",
   "execution_count": 2,
   "id": "4fca6669",
   "metadata": {},
   "outputs": [],
   "source": [
    "import pandas as pd\n",
    "import matplotlib.pyplot as plt\n",
    "import seaborn as sns\n",
    "import plotly.express as px\n",
    "import plotly.graph_objects as go\n",
    "import warnings\n",
    "warnings.filterwarnings('ignore')\n",
    "\n",
    "%matplotlib inline"
   ]
  },
  {
   "cell_type": "code",
   "execution_count": 3,
   "id": "31d734b9",
   "metadata": {},
   "outputs": [],
   "source": [
    "vaccine_df = pd.read_csv('data/vaccine_with_protocol.csv')"
   ]
  },
  {
   "cell_type": "code",
   "execution_count": 10,
   "id": "0d240906",
   "metadata": {},
   "outputs": [],
   "source": [
    "vaccine_df.zipcode = vaccine_df.zipcode.astype('Int64')\n",
    "vaccine_df.zipcode = vaccine_df.zipcode.astype('str')"
   ]
  },
  {
   "cell_type": "code",
   "execution_count": 11,
   "id": "341815b3",
   "metadata": {},
   "outputs": [
    {
     "data": {
      "text/html": [
       "<div>\n",
       "<style scoped>\n",
       "    .dataframe tbody tr th:only-of-type {\n",
       "        vertical-align: middle;\n",
       "    }\n",
       "\n",
       "    .dataframe tbody tr th {\n",
       "        vertical-align: top;\n",
       "    }\n",
       "\n",
       "    .dataframe thead th {\n",
       "        text-align: right;\n",
       "    }\n",
       "</style>\n",
       "<table border=\"1\" class=\"dataframe\">\n",
       "  <thead>\n",
       "    <tr style=\"text-align: right;\">\n",
       "      <th></th>\n",
       "      <th>vacc_date</th>\n",
       "      <th>zipcode</th>\n",
       "      <th>count_given</th>\n",
       "      <th>dose_nbr</th>\n",
       "      <th>protocol</th>\n",
       "    </tr>\n",
       "  </thead>\n",
       "  <tbody>\n",
       "    <tr>\n",
       "      <th>0</th>\n",
       "      <td>2020-12-12</td>\n",
       "      <td>37215</td>\n",
       "      <td>1.0</td>\n",
       "      <td>1.0</td>\n",
       "      <td>two-shot</td>\n",
       "    </tr>\n",
       "    <tr>\n",
       "      <th>1</th>\n",
       "      <td>2020-12-14</td>\n",
       "      <td>37205</td>\n",
       "      <td>1.0</td>\n",
       "      <td>2.0</td>\n",
       "      <td>two-shot</td>\n",
       "    </tr>\n",
       "    <tr>\n",
       "      <th>2</th>\n",
       "      <td>2020-12-14</td>\n",
       "      <td>37215</td>\n",
       "      <td>1.0</td>\n",
       "      <td>1.0</td>\n",
       "      <td>two-shot</td>\n",
       "    </tr>\n",
       "    <tr>\n",
       "      <th>3</th>\n",
       "      <td>2020-12-15</td>\n",
       "      <td>37221</td>\n",
       "      <td>1.0</td>\n",
       "      <td>1.0</td>\n",
       "      <td>two-shot</td>\n",
       "    </tr>\n",
       "    <tr>\n",
       "      <th>4</th>\n",
       "      <td>2020-12-16</td>\n",
       "      <td>37215</td>\n",
       "      <td>1.0</td>\n",
       "      <td>1.0</td>\n",
       "      <td>two-shot</td>\n",
       "    </tr>\n",
       "  </tbody>\n",
       "</table>\n",
       "</div>"
      ],
      "text/plain": [
       "    vacc_date zipcode  count_given  dose_nbr  protocol\n",
       "0  2020-12-12   37215          1.0       1.0  two-shot\n",
       "1  2020-12-14   37205          1.0       2.0  two-shot\n",
       "2  2020-12-14   37215          1.0       1.0  two-shot\n",
       "3  2020-12-15   37221          1.0       1.0  two-shot\n",
       "4  2020-12-16   37215          1.0       1.0  two-shot"
      ]
     },
     "execution_count": 11,
     "metadata": {},
     "output_type": "execute_result"
    }
   ],
   "source": [
    "vaccine_df.head()"
   ]
  },
  {
   "cell_type": "code",
   "execution_count": 12,
   "id": "2179a956",
   "metadata": {},
   "outputs": [
    {
     "data": {
      "text/html": [
       "<div>\n",
       "<style scoped>\n",
       "    .dataframe tbody tr th:only-of-type {\n",
       "        vertical-align: middle;\n",
       "    }\n",
       "\n",
       "    .dataframe tbody tr th {\n",
       "        vertical-align: top;\n",
       "    }\n",
       "\n",
       "    .dataframe thead th {\n",
       "        text-align: right;\n",
       "    }\n",
       "</style>\n",
       "<table border=\"1\" class=\"dataframe\">\n",
       "  <thead>\n",
       "    <tr style=\"text-align: right;\">\n",
       "      <th></th>\n",
       "      <th>vacc_date</th>\n",
       "      <th>zipcode</th>\n",
       "      <th>count_given</th>\n",
       "      <th>dose_nbr</th>\n",
       "      <th>protocol</th>\n",
       "    </tr>\n",
       "  </thead>\n",
       "  <tbody>\n",
       "    <tr>\n",
       "      <th>6689</th>\n",
       "      <td>2021-04-07</td>\n",
       "      <td>37228</td>\n",
       "      <td>9.0</td>\n",
       "      <td>1.0</td>\n",
       "      <td>two-shot</td>\n",
       "    </tr>\n",
       "    <tr>\n",
       "      <th>6690</th>\n",
       "      <td>2021-04-07</td>\n",
       "      <td>37228</td>\n",
       "      <td>2.0</td>\n",
       "      <td>2.0</td>\n",
       "      <td>two-shot</td>\n",
       "    </tr>\n",
       "    <tr>\n",
       "      <th>6691</th>\n",
       "      <td>2021-04-07</td>\n",
       "      <td>&lt;NA&gt;</td>\n",
       "      <td>8.0</td>\n",
       "      <td>1.0</td>\n",
       "      <td>two-shot</td>\n",
       "    </tr>\n",
       "    <tr>\n",
       "      <th>6692</th>\n",
       "      <td>2021-04-07</td>\n",
       "      <td>&lt;NA&gt;</td>\n",
       "      <td>1.0</td>\n",
       "      <td>1.0</td>\n",
       "      <td>one-shot</td>\n",
       "    </tr>\n",
       "    <tr>\n",
       "      <th>6693</th>\n",
       "      <td>2021-04-07</td>\n",
       "      <td>&lt;NA&gt;</td>\n",
       "      <td>7.0</td>\n",
       "      <td>2.0</td>\n",
       "      <td>two-shot</td>\n",
       "    </tr>\n",
       "  </tbody>\n",
       "</table>\n",
       "</div>"
      ],
      "text/plain": [
       "       vacc_date zipcode  count_given  dose_nbr  protocol\n",
       "6689  2021-04-07   37228          9.0       1.0  two-shot\n",
       "6690  2021-04-07   37228          2.0       2.0  two-shot\n",
       "6691  2021-04-07    <NA>          8.0       1.0  two-shot\n",
       "6692  2021-04-07    <NA>          1.0       1.0  one-shot\n",
       "6693  2021-04-07    <NA>          7.0       2.0  two-shot"
      ]
     },
     "execution_count": 12,
     "metadata": {},
     "output_type": "execute_result"
    }
   ],
   "source": [
    "vaccine_df.tail()"
   ]
  },
  {
   "cell_type": "code",
   "execution_count": 13,
   "id": "4256c94f",
   "metadata": {},
   "outputs": [
    {
     "name": "stdout",
     "output_type": "stream",
     "text": [
      "<class 'pandas.core.frame.DataFrame'>\n",
      "RangeIndex: 6694 entries, 0 to 6693\n",
      "Data columns (total 5 columns):\n",
      " #   Column       Non-Null Count  Dtype  \n",
      "---  ------       --------------  -----  \n",
      " 0   vacc_date    6694 non-null   object \n",
      " 1   zipcode      6694 non-null   object \n",
      " 2   count_given  6686 non-null   float64\n",
      " 3   dose_nbr     6686 non-null   float64\n",
      " 4   protocol     6694 non-null   object \n",
      "dtypes: float64(2), object(3)\n",
      "memory usage: 261.6+ KB\n"
     ]
    }
   ],
   "source": [
    "vaccine_df.info()"
   ]
  },
  {
   "cell_type": "code",
   "execution_count": 14,
   "id": "c0353803",
   "metadata": {},
   "outputs": [],
   "source": [
    "vaccine_by_zip = vaccine_df.groupby(\"zipcode\")[\"count_given\"].count()"
   ]
  },
  {
   "cell_type": "markdown",
   "id": "26520e2c",
   "metadata": {},
   "source": [
    "What is this giving me?  not what I want I think...."
   ]
  },
  {
   "cell_type": "code",
   "execution_count": 15,
   "id": "be026c04",
   "metadata": {},
   "outputs": [
    {
     "data": {
      "text/plain": [
       "zipcode\n",
       "37013    235\n",
       "37027    124\n",
       "37069     58\n",
       "37072    239\n",
       "37076    237\n",
       "37080    217\n",
       "37115    238\n",
       "37138    234\n",
       "37189    215\n",
       "37201    183\n",
       "37203    238\n",
       "37204    239\n",
       "37205    241\n",
       "37206    238\n",
       "37207    239\n",
       "37208    232\n",
       "37209    240\n",
       "37210    231\n",
       "37211    242\n",
       "37212    235\n",
       "37213     68\n",
       "37214    237\n",
       "37215    247\n",
       "37216    237\n",
       "37217    232\n",
       "37218    227\n",
       "37219    194\n",
       "37220    228\n",
       "37221    240\n",
       "37228    184\n",
       "37238      5\n",
       "<NA>     232\n",
       "Name: count_given, dtype: int64"
      ]
     },
     "execution_count": 15,
     "metadata": {},
     "output_type": "execute_result"
    }
   ],
   "source": [
    "vaccine_by_zip"
   ]
  },
  {
   "cell_type": "code",
   "execution_count": null,
   "id": "9bf35342",
   "metadata": {},
   "outputs": [],
   "source": []
  },
  {
   "cell_type": "code",
   "execution_count": null,
   "id": "cce7bcb0",
   "metadata": {},
   "outputs": [],
   "source": []
  },
  {
   "cell_type": "code",
   "execution_count": null,
   "id": "73769310",
   "metadata": {},
   "outputs": [],
   "source": []
  }
 ],
 "metadata": {
  "kernelspec": {
   "display_name": "Python 3",
   "language": "python",
   "name": "python3"
  },
  "language_info": {
   "codemirror_mode": {
    "name": "ipython",
    "version": 3
   },
   "file_extension": ".py",
   "mimetype": "text/x-python",
   "name": "python",
   "nbconvert_exporter": "python",
   "pygments_lexer": "ipython3",
   "version": "3.9.4"
  }
 },
 "nbformat": 4,
 "nbformat_minor": 5
}
