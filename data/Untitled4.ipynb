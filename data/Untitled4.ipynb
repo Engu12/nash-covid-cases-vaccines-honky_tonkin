{
 "cells": [
  {
   "cell_type": "code",
   "execution_count": 1,
   "id": "8314a233",
   "metadata": {},
   "outputs": [],
   "source": [
    "import pandas as pd\n",
    "import numpy as np\n",
    "import matplotlib.pyplot as plt\n",
    "from shapely.geometry import Point\n",
    "import pandas as pd\n",
    "import geopandas as gpd\n",
    "import folium\n",
    "from folium.plugins import MarkerCluster\n",
    "from folium.plugins import FastMarkerCluster\n",
    "\n",
    "%matplotlib inline"
   ]
  },
  {
   "cell_type": "markdown",
   "id": "c174c2f6",
   "metadata": {},
   "source": [
    "Load CSV Files"
   ]
  },
  {
   "cell_type": "code",
   "execution_count": 2,
   "id": "49845fb0",
   "metadata": {},
   "outputs": [],
   "source": [
    "covid_df = pd.read_csv('data/COVID_CountByZipPerDate 03292021.csv')\n",
    "vaccine_df = pd.read_csv('data/vaccine_with_protocol.csv')"
   ]
  },
  {
   "cell_type": "code",
   "execution_count": 33,
   "id": "33f42f8c",
   "metadata": {},
   "outputs": [
    {
     "name": "stdout",
     "output_type": "stream",
     "text": [
      "<class 'pandas.core.frame.DataFrame'>\n",
      "RangeIndex: 8832 entries, 0 to 8831\n",
      "Data columns (total 3 columns):\n",
      " #   Column      Non-Null Count  Dtype \n",
      "---  ------      --------------  ----- \n",
      " 0   zip         8832 non-null   object\n",
      " 1   month_year  8832 non-null   object\n",
      " 2   cases       8832 non-null   int64 \n",
      "dtypes: int64(1), object(2)\n",
      "memory usage: 207.1+ KB\n"
     ]
    }
   ],
   "source": [
    "covid_df.info()"
   ]
  },
  {
   "cell_type": "code",
   "execution_count": 3,
   "id": "e7ddc0ac",
   "metadata": {},
   "outputs": [],
   "source": [
    "covid_df.Zip = covid_df.Zip.astype('str')\n",
    "vaccine_df.zipcode = vaccine_df.zipcode.astype('str')\n",
    "vaccine_df.count_given = vaccine_df.count_given.astype('float')\n",
    "vaccine_df.dose_nbr = vaccine_df.dose_nbr.astype('Int64')"
   ]
  },
  {
   "cell_type": "markdown",
   "id": "2fcc02b7",
   "metadata": {},
   "source": [
    "Rename Columns"
   ]
  },
  {
   "cell_type": "code",
   "execution_count": null,
   "id": "18b64892",
   "metadata": {},
   "outputs": [],
   "source": []
  },
  {
   "cell_type": "code",
   "execution_count": 4,
   "id": "b0657fbb",
   "metadata": {},
   "outputs": [],
   "source": [
    "vaccine_df.columns = ['date', 'zip', 'v_count', 'dose_nbr', 'protocol']\n",
    "covid_df.columns = ['date', 'zip', 'cases']"
   ]
  },
  {
   "cell_type": "code",
   "execution_count": 5,
   "id": "829669b5",
   "metadata": {},
   "outputs": [
    {
     "name": "stdout",
     "output_type": "stream",
     "text": [
      "<class 'pandas.core.frame.DataFrame'>\n",
      "RangeIndex: 6694 entries, 0 to 6693\n",
      "Data columns (total 5 columns):\n",
      " #   Column    Non-Null Count  Dtype  \n",
      "---  ------    --------------  -----  \n",
      " 0   date      6694 non-null   object \n",
      " 1   zip       6694 non-null   object \n",
      " 2   v_count   6686 non-null   float64\n",
      " 3   dose_nbr  6686 non-null   Int64  \n",
      " 4   protocol  6694 non-null   object \n",
      "dtypes: Int64(1), float64(1), object(3)\n",
      "memory usage: 268.1+ KB\n"
     ]
    }
   ],
   "source": [
    "vaccine_df.info()"
   ]
  },
  {
   "cell_type": "markdown",
   "id": "75cb1178",
   "metadata": {},
   "source": [
    "Convert Date Time"
   ]
  },
  {
   "cell_type": "code",
   "execution_count": 6,
   "id": "2137234e",
   "metadata": {},
   "outputs": [],
   "source": [
    "covid_df.date = pd.to_datetime(covid_df.date)\n",
    "vaccine_df.date = pd.to_datetime(vaccine_df.date)"
   ]
  },
  {
   "cell_type": "markdown",
   "id": "139b0561",
   "metadata": {},
   "source": [
    "group by zipcode to get total cases per zipcode"
   ]
  },
  {
   "cell_type": "code",
   "execution_count": 7,
   "id": "2a9a3905",
   "metadata": {},
   "outputs": [],
   "source": [
    "#What does this mean?*******************"
   ]
  },
  {
   "cell_type": "code",
   "execution_count": 8,
   "id": "c07d0132",
   "metadata": {},
   "outputs": [],
   "source": [
    "covid_df_g = covid_df.groupby(['zip'], as_index=False)['cases'].sum()\n",
    "vaccine_df_g = vaccine_df.groupby(['zip'], as_index=False)['v_count'].sum()"
   ]
  },
  {
   "cell_type": "markdown",
   "id": "510b3b96",
   "metadata": {},
   "source": [
    "Create Month_Year Column"
   ]
  },
  {
   "cell_type": "code",
   "execution_count": 9,
   "id": "b129bbef",
   "metadata": {},
   "outputs": [],
   "source": [
    "vaccine_df2 = vaccine_df\n",
    "covid_df2 = covid_df"
   ]
  },
  {
   "cell_type": "code",
   "execution_count": 10,
   "id": "7448ba68",
   "metadata": {},
   "outputs": [],
   "source": [
    "vaccine_df2['month'] = vaccine_df2['date'].dt.month\n",
    "vaccine_df2['year'] = vaccine_df2['date'].dt.year"
   ]
  },
  {
   "cell_type": "code",
   "execution_count": 11,
   "id": "3b1730ec",
   "metadata": {},
   "outputs": [],
   "source": [
    "covid_df2['month'] = covid_df2['date'].dt.month\n",
    "covid_df2['year'] = covid_df2['date'].dt.year"
   ]
  },
  {
   "cell_type": "code",
   "execution_count": 12,
   "id": "db01193b",
   "metadata": {},
   "outputs": [],
   "source": [
    "vaccine_df2['month_year'] = vaccine_df2['month'].map(str) + '-' + vaccine_df2['year'].map(str)\n",
    "covid_df2['month_year'] = covid_df2['month'].map(str) + '-' + covid_df2['year'].map(str)"
   ]
  },
  {
   "cell_type": "code",
   "execution_count": 13,
   "id": "6a2e2e40",
   "metadata": {},
   "outputs": [
    {
     "name": "stdout",
     "output_type": "stream",
     "text": [
      "<class 'pandas.core.frame.DataFrame'>\n",
      "RangeIndex: 6694 entries, 0 to 6693\n",
      "Data columns (total 8 columns):\n",
      " #   Column      Non-Null Count  Dtype         \n",
      "---  ------      --------------  -----         \n",
      " 0   date        6694 non-null   datetime64[ns]\n",
      " 1   zip         6694 non-null   object        \n",
      " 2   v_count     6686 non-null   float64       \n",
      " 3   dose_nbr    6686 non-null   Int64         \n",
      " 4   protocol    6694 non-null   object        \n",
      " 5   month       6694 non-null   int64         \n",
      " 6   year        6694 non-null   int64         \n",
      " 7   month_year  6694 non-null   object        \n",
      "dtypes: Int64(1), datetime64[ns](1), float64(1), int64(2), object(3)\n",
      "memory usage: 425.0+ KB\n"
     ]
    }
   ],
   "source": [
    "vaccine_df2.info()"
   ]
  },
  {
   "cell_type": "markdown",
   "id": "2b79d8ad",
   "metadata": {},
   "source": [
    "Is he renaming the columns with the double brackets?"
   ]
  },
  {
   "cell_type": "code",
   "execution_count": 14,
   "id": "b0ce5710",
   "metadata": {},
   "outputs": [],
   "source": [
    "covid_df = covid_df[['zip', 'month_year', 'cases']]\n",
    "vaccine_df = vaccine_df[['month_year','zip','v_count','dose_nbr','protocol']]"
   ]
  },
  {
   "cell_type": "code",
   "execution_count": 15,
   "id": "08a084e9",
   "metadata": {},
   "outputs": [],
   "source": [
    "#why can't these be called by v_my_g.info()? ***********"
   ]
  },
  {
   "cell_type": "code",
   "execution_count": 16,
   "id": "36217329",
   "metadata": {},
   "outputs": [],
   "source": [
    "v_my_g = vaccine_df2.groupby(['zip'])\n",
    "c_my_g = covid_df2.groupby(['zip'])"
   ]
  },
  {
   "cell_type": "code",
   "execution_count": 17,
   "id": "1e40e3a0",
   "metadata": {},
   "outputs": [],
   "source": [
    "ethnicity_df = pd.read_excel(\"data/latino_excel.xlsx\", skiprows = 1, header=[0,1], sheet_name=0)\n",
    "ethnicity_df = ethnicity_df[ethnicity_df.columns.drop(list(ethnicity_df.filter(regex='Error')))]\n",
    "ethnicity_df.columns = ethnicity_df.columns.droplevel(1)"
   ]
  },
  {
   "cell_type": "code",
   "execution_count": 18,
   "id": "af501219",
   "metadata": {},
   "outputs": [
    {
     "data": {
      "text/html": [
       "<div>\n",
       "<style scoped>\n",
       "    .dataframe tbody tr th:only-of-type {\n",
       "        vertical-align: middle;\n",
       "    }\n",
       "\n",
       "    .dataframe tbody tr th {\n",
       "        vertical-align: top;\n",
       "    }\n",
       "\n",
       "    .dataframe thead th {\n",
       "        text-align: right;\n",
       "    }\n",
       "</style>\n",
       "<table border=\"1\" class=\"dataframe\">\n",
       "  <thead>\n",
       "    <tr style=\"text-align: right;\">\n",
       "      <th></th>\n",
       "      <th>Unnamed: 0_level_0</th>\n",
       "      <th>37010</th>\n",
       "      <th>37012</th>\n",
       "      <th>37013</th>\n",
       "      <th>37014</th>\n",
       "      <th>37015</th>\n",
       "      <th>37016</th>\n",
       "      <th>37020</th>\n",
       "      <th>37022</th>\n",
       "      <th>37025</th>\n",
       "      <th>...</th>\n",
       "      <th>38482</th>\n",
       "      <th>38483</th>\n",
       "      <th>38487</th>\n",
       "      <th>38547</th>\n",
       "      <th>38548</th>\n",
       "      <th>38552</th>\n",
       "      <th>38560</th>\n",
       "      <th>38563</th>\n",
       "      <th>38567</th>\n",
       "      <th>38569</th>\n",
       "    </tr>\n",
       "  </thead>\n",
       "  <tbody>\n",
       "    <tr>\n",
       "      <th>0</th>\n",
       "      <td>Total:</td>\n",
       "      <td>4966</td>\n",
       "      <td>2185</td>\n",
       "      <td>97939</td>\n",
       "      <td>2835</td>\n",
       "      <td>17665</td>\n",
       "      <td>950</td>\n",
       "      <td>5984</td>\n",
       "      <td>6583</td>\n",
       "      <td>5698</td>\n",
       "      <td>...</td>\n",
       "      <td>1635</td>\n",
       "      <td>5910</td>\n",
       "      <td>1044</td>\n",
       "      <td>1939</td>\n",
       "      <td>931</td>\n",
       "      <td>157</td>\n",
       "      <td>1405</td>\n",
       "      <td>3410</td>\n",
       "      <td>685</td>\n",
       "      <td>69</td>\n",
       "    </tr>\n",
       "    <tr>\n",
       "      <th>1</th>\n",
       "      <td>Not Hispanic or Latino:</td>\n",
       "      <td>4803</td>\n",
       "      <td>2134</td>\n",
       "      <td>81131</td>\n",
       "      <td>2783</td>\n",
       "      <td>16768</td>\n",
       "      <td>944</td>\n",
       "      <td>5824</td>\n",
       "      <td>6286</td>\n",
       "      <td>5698</td>\n",
       "      <td>...</td>\n",
       "      <td>1574</td>\n",
       "      <td>5748</td>\n",
       "      <td>1022</td>\n",
       "      <td>1912</td>\n",
       "      <td>931</td>\n",
       "      <td>157</td>\n",
       "      <td>1405</td>\n",
       "      <td>3410</td>\n",
       "      <td>660</td>\n",
       "      <td>69</td>\n",
       "    </tr>\n",
       "    <tr>\n",
       "      <th>2</th>\n",
       "      <td>White alone</td>\n",
       "      <td>4502</td>\n",
       "      <td>2050</td>\n",
       "      <td>40080</td>\n",
       "      <td>2682</td>\n",
       "      <td>15842</td>\n",
       "      <td>939</td>\n",
       "      <td>5137</td>\n",
       "      <td>5968</td>\n",
       "      <td>5526</td>\n",
       "      <td>...</td>\n",
       "      <td>1525</td>\n",
       "      <td>5608</td>\n",
       "      <td>838</td>\n",
       "      <td>1884</td>\n",
       "      <td>930</td>\n",
       "      <td>157</td>\n",
       "      <td>1307</td>\n",
       "      <td>3202</td>\n",
       "      <td>615</td>\n",
       "      <td>69</td>\n",
       "    </tr>\n",
       "    <tr>\n",
       "      <th>3</th>\n",
       "      <td>Black or African American alone</td>\n",
       "      <td>245</td>\n",
       "      <td>73</td>\n",
       "      <td>33280</td>\n",
       "      <td>18</td>\n",
       "      <td>304</td>\n",
       "      <td>0</td>\n",
       "      <td>222</td>\n",
       "      <td>173</td>\n",
       "      <td>24</td>\n",
       "      <td>...</td>\n",
       "      <td>0</td>\n",
       "      <td>31</td>\n",
       "      <td>113</td>\n",
       "      <td>0</td>\n",
       "      <td>0</td>\n",
       "      <td>0</td>\n",
       "      <td>0</td>\n",
       "      <td>140</td>\n",
       "      <td>0</td>\n",
       "      <td>0</td>\n",
       "    </tr>\n",
       "    <tr>\n",
       "      <th>4</th>\n",
       "      <td>American Indian and Alaska Native alone</td>\n",
       "      <td>2</td>\n",
       "      <td>0</td>\n",
       "      <td>95</td>\n",
       "      <td>0</td>\n",
       "      <td>147</td>\n",
       "      <td>0</td>\n",
       "      <td>99</td>\n",
       "      <td>32</td>\n",
       "      <td>0</td>\n",
       "      <td>...</td>\n",
       "      <td>0</td>\n",
       "      <td>0</td>\n",
       "      <td>0</td>\n",
       "      <td>28</td>\n",
       "      <td>1</td>\n",
       "      <td>0</td>\n",
       "      <td>2</td>\n",
       "      <td>0</td>\n",
       "      <td>0</td>\n",
       "      <td>0</td>\n",
       "    </tr>\n",
       "  </tbody>\n",
       "</table>\n",
       "<p>5 rows × 119 columns</p>\n",
       "</div>"
      ],
      "text/plain": [
       "                        Unnamed: 0_level_0  37010  37012  37013  37014  37015  \\\n",
       "0                                   Total:   4966   2185  97939   2835  17665   \n",
       "1                  Not Hispanic or Latino:   4803   2134  81131   2783  16768   \n",
       "2                              White alone   4502   2050  40080   2682  15842   \n",
       "3          Black or African American alone    245     73  33280     18    304   \n",
       "4  American Indian and Alaska Native alone      2      0     95      0    147   \n",
       "\n",
       "   37016  37020  37022  37025  ...  38482  38483  38487  38547  38548  38552  \\\n",
       "0    950   5984   6583   5698  ...   1635   5910   1044   1939    931    157   \n",
       "1    944   5824   6286   5698  ...   1574   5748   1022   1912    931    157   \n",
       "2    939   5137   5968   5526  ...   1525   5608    838   1884    930    157   \n",
       "3      0    222    173     24  ...      0     31    113      0      0      0   \n",
       "4      0     99     32      0  ...      0      0      0     28      1      0   \n",
       "\n",
       "   38560  38563  38567  38569  \n",
       "0   1405   3410    685     69  \n",
       "1   1405   3410    660     69  \n",
       "2   1307   3202    615     69  \n",
       "3      0    140      0      0  \n",
       "4      2      0      0      0  \n",
       "\n",
       "[5 rows x 119 columns]"
      ]
     },
     "execution_count": 18,
     "metadata": {},
     "output_type": "execute_result"
    }
   ],
   "source": [
    "ethnicity_df.head()"
   ]
  },
  {
   "cell_type": "markdown",
   "id": "0e912bdf",
   "metadata": {},
   "source": [
    "#what does this mean in english? ****************"
   ]
  },
  {
   "cell_type": "code",
   "execution_count": 22,
   "id": "b23adf6f",
   "metadata": {},
   "outputs": [],
   "source": [
    "ethnicity_df_clean = ethnicity_df.set_index('Unnamed: 0_level_0').T.reset_index().rename({'index' : 'zip'}, axis=1)"
   ]
  },
  {
   "cell_type": "code",
   "execution_count": 23,
   "id": "260bad4b",
   "metadata": {},
   "outputs": [
    {
     "data": {
      "text/html": [
       "<div>\n",
       "<style scoped>\n",
       "    .dataframe tbody tr th:only-of-type {\n",
       "        vertical-align: middle;\n",
       "    }\n",
       "\n",
       "    .dataframe tbody tr th {\n",
       "        vertical-align: top;\n",
       "    }\n",
       "\n",
       "    .dataframe thead th {\n",
       "        text-align: right;\n",
       "    }\n",
       "</style>\n",
       "<table border=\"1\" class=\"dataframe\">\n",
       "  <thead>\n",
       "    <tr style=\"text-align: right;\">\n",
       "      <th>Unnamed: 0_level_0</th>\n",
       "      <th>zip</th>\n",
       "      <th>Total:</th>\n",
       "      <th>Not Hispanic or Latino:</th>\n",
       "      <th>White alone</th>\n",
       "      <th>Black or African American alone</th>\n",
       "      <th>American Indian and Alaska Native alone</th>\n",
       "      <th>Asian alone</th>\n",
       "      <th>Native Hawaiian and Other Pacific Islander alone</th>\n",
       "      <th>Some other race alone</th>\n",
       "      <th>Two or more races:</th>\n",
       "      <th>...</th>\n",
       "      <th>Hispanic or Latino:</th>\n",
       "      <th>White alone</th>\n",
       "      <th>Black or African American alone</th>\n",
       "      <th>American Indian and Alaska Native alone</th>\n",
       "      <th>Asian alone</th>\n",
       "      <th>Native Hawaiian and Other Pacific Islander alone</th>\n",
       "      <th>Some other race alone</th>\n",
       "      <th>Two or more races:</th>\n",
       "      <th>Two races including Some other race</th>\n",
       "      <th>Two races excluding Some other race, and three or more races</th>\n",
       "    </tr>\n",
       "  </thead>\n",
       "  <tbody>\n",
       "    <tr>\n",
       "      <th>0</th>\n",
       "      <td>37010</td>\n",
       "      <td>4966</td>\n",
       "      <td>4803</td>\n",
       "      <td>4502</td>\n",
       "      <td>245</td>\n",
       "      <td>2</td>\n",
       "      <td>27</td>\n",
       "      <td>0</td>\n",
       "      <td>0</td>\n",
       "      <td>27</td>\n",
       "      <td>...</td>\n",
       "      <td>163</td>\n",
       "      <td>90</td>\n",
       "      <td>0</td>\n",
       "      <td>0</td>\n",
       "      <td>0</td>\n",
       "      <td>20</td>\n",
       "      <td>0</td>\n",
       "      <td>53</td>\n",
       "      <td>0</td>\n",
       "      <td>53</td>\n",
       "    </tr>\n",
       "    <tr>\n",
       "      <th>1</th>\n",
       "      <td>37012</td>\n",
       "      <td>2185</td>\n",
       "      <td>2134</td>\n",
       "      <td>2050</td>\n",
       "      <td>73</td>\n",
       "      <td>0</td>\n",
       "      <td>3</td>\n",
       "      <td>0</td>\n",
       "      <td>0</td>\n",
       "      <td>8</td>\n",
       "      <td>...</td>\n",
       "      <td>51</td>\n",
       "      <td>47</td>\n",
       "      <td>0</td>\n",
       "      <td>0</td>\n",
       "      <td>0</td>\n",
       "      <td>0</td>\n",
       "      <td>0</td>\n",
       "      <td>4</td>\n",
       "      <td>0</td>\n",
       "      <td>4</td>\n",
       "    </tr>\n",
       "    <tr>\n",
       "      <th>2</th>\n",
       "      <td>37013</td>\n",
       "      <td>97939</td>\n",
       "      <td>81131</td>\n",
       "      <td>40080</td>\n",
       "      <td>33280</td>\n",
       "      <td>95</td>\n",
       "      <td>4250</td>\n",
       "      <td>0</td>\n",
       "      <td>374</td>\n",
       "      <td>3052</td>\n",
       "      <td>...</td>\n",
       "      <td>16808</td>\n",
       "      <td>13242</td>\n",
       "      <td>446</td>\n",
       "      <td>48</td>\n",
       "      <td>0</td>\n",
       "      <td>0</td>\n",
       "      <td>2464</td>\n",
       "      <td>608</td>\n",
       "      <td>357</td>\n",
       "      <td>251</td>\n",
       "    </tr>\n",
       "    <tr>\n",
       "      <th>3</th>\n",
       "      <td>37014</td>\n",
       "      <td>2835</td>\n",
       "      <td>2783</td>\n",
       "      <td>2682</td>\n",
       "      <td>18</td>\n",
       "      <td>0</td>\n",
       "      <td>47</td>\n",
       "      <td>0</td>\n",
       "      <td>0</td>\n",
       "      <td>36</td>\n",
       "      <td>...</td>\n",
       "      <td>52</td>\n",
       "      <td>40</td>\n",
       "      <td>0</td>\n",
       "      <td>0</td>\n",
       "      <td>0</td>\n",
       "      <td>0</td>\n",
       "      <td>0</td>\n",
       "      <td>12</td>\n",
       "      <td>12</td>\n",
       "      <td>0</td>\n",
       "    </tr>\n",
       "    <tr>\n",
       "      <th>4</th>\n",
       "      <td>37015</td>\n",
       "      <td>17665</td>\n",
       "      <td>16768</td>\n",
       "      <td>15842</td>\n",
       "      <td>304</td>\n",
       "      <td>147</td>\n",
       "      <td>107</td>\n",
       "      <td>0</td>\n",
       "      <td>5</td>\n",
       "      <td>363</td>\n",
       "      <td>...</td>\n",
       "      <td>897</td>\n",
       "      <td>635</td>\n",
       "      <td>0</td>\n",
       "      <td>2</td>\n",
       "      <td>0</td>\n",
       "      <td>0</td>\n",
       "      <td>221</td>\n",
       "      <td>39</td>\n",
       "      <td>37</td>\n",
       "      <td>2</td>\n",
       "    </tr>\n",
       "  </tbody>\n",
       "</table>\n",
       "<p>5 rows × 22 columns</p>\n",
       "</div>"
      ],
      "text/plain": [
       "Unnamed: 0_level_0    zip  Total:  Not Hispanic or Latino:  White alone  \\\n",
       "0                   37010    4966                     4803         4502   \n",
       "1                   37012    2185                     2134         2050   \n",
       "2                   37013   97939                    81131        40080   \n",
       "3                   37014    2835                     2783         2682   \n",
       "4                   37015   17665                    16768        15842   \n",
       "\n",
       "Unnamed: 0_level_0  Black or African American alone  \\\n",
       "0                                               245   \n",
       "1                                                73   \n",
       "2                                             33280   \n",
       "3                                                18   \n",
       "4                                               304   \n",
       "\n",
       "Unnamed: 0_level_0  American Indian and Alaska Native alone  Asian alone  \\\n",
       "0                                                         2           27   \n",
       "1                                                         0            3   \n",
       "2                                                        95         4250   \n",
       "3                                                         0           47   \n",
       "4                                                       147          107   \n",
       "\n",
       "Unnamed: 0_level_0  Native Hawaiian and Other Pacific Islander alone  \\\n",
       "0                                                                  0   \n",
       "1                                                                  0   \n",
       "2                                                                  0   \n",
       "3                                                                  0   \n",
       "4                                                                  0   \n",
       "\n",
       "Unnamed: 0_level_0  Some other race alone  Two or more races:  ...  \\\n",
       "0                                       0                  27  ...   \n",
       "1                                       0                   8  ...   \n",
       "2                                     374                3052  ...   \n",
       "3                                       0                  36  ...   \n",
       "4                                       5                 363  ...   \n",
       "\n",
       "Unnamed: 0_level_0  Hispanic or Latino:  White alone  \\\n",
       "0                                   163           90   \n",
       "1                                    51           47   \n",
       "2                                 16808        13242   \n",
       "3                                    52           40   \n",
       "4                                   897          635   \n",
       "\n",
       "Unnamed: 0_level_0  Black or African American alone  \\\n",
       "0                                                 0   \n",
       "1                                                 0   \n",
       "2                                               446   \n",
       "3                                                 0   \n",
       "4                                                 0   \n",
       "\n",
       "Unnamed: 0_level_0  American Indian and Alaska Native alone  Asian alone  \\\n",
       "0                                                         0            0   \n",
       "1                                                         0            0   \n",
       "2                                                        48            0   \n",
       "3                                                         0            0   \n",
       "4                                                         2            0   \n",
       "\n",
       "Unnamed: 0_level_0  Native Hawaiian and Other Pacific Islander alone  \\\n",
       "0                                                                 20   \n",
       "1                                                                  0   \n",
       "2                                                                  0   \n",
       "3                                                                  0   \n",
       "4                                                                  0   \n",
       "\n",
       "Unnamed: 0_level_0  Some other race alone  Two or more races:  \\\n",
       "0                                       0                  53   \n",
       "1                                       0                   4   \n",
       "2                                    2464                 608   \n",
       "3                                       0                  12   \n",
       "4                                     221                  39   \n",
       "\n",
       "Unnamed: 0_level_0  Two races including Some other race  \\\n",
       "0                                                     0   \n",
       "1                                                     0   \n",
       "2                                                   357   \n",
       "3                                                    12   \n",
       "4                                                    37   \n",
       "\n",
       "Unnamed: 0_level_0  Two races excluding Some other race, and three or more races  \n",
       "0                                                                  53             \n",
       "1                                                                   4             \n",
       "2                                                                 251             \n",
       "3                                                                   0             \n",
       "4                                                                   2             \n",
       "\n",
       "[5 rows x 22 columns]"
      ]
     },
     "execution_count": 23,
     "metadata": {},
     "output_type": "execute_result"
    }
   ],
   "source": [
    "ethnicity_df_clean.head()"
   ]
  },
  {
   "cell_type": "code",
   "execution_count": 24,
   "id": "8e583131",
   "metadata": {},
   "outputs": [
    {
     "data": {
      "text/html": [
       "<div>\n",
       "<style scoped>\n",
       "    .dataframe tbody tr th:only-of-type {\n",
       "        vertical-align: middle;\n",
       "    }\n",
       "\n",
       "    .dataframe tbody tr th {\n",
       "        vertical-align: top;\n",
       "    }\n",
       "\n",
       "    .dataframe thead th {\n",
       "        text-align: right;\n",
       "    }\n",
       "</style>\n",
       "<table border=\"1\" class=\"dataframe\">\n",
       "  <thead>\n",
       "    <tr style=\"text-align: right;\">\n",
       "      <th>Unnamed: 0_level_0</th>\n",
       "      <th>zip</th>\n",
       "      <th>total</th>\n",
       "    </tr>\n",
       "  </thead>\n",
       "  <tbody>\n",
       "    <tr>\n",
       "      <th>0</th>\n",
       "      <td>37010</td>\n",
       "      <td>4966</td>\n",
       "    </tr>\n",
       "    <tr>\n",
       "      <th>1</th>\n",
       "      <td>37012</td>\n",
       "      <td>2185</td>\n",
       "    </tr>\n",
       "    <tr>\n",
       "      <th>2</th>\n",
       "      <td>37013</td>\n",
       "      <td>97939</td>\n",
       "    </tr>\n",
       "    <tr>\n",
       "      <th>3</th>\n",
       "      <td>37014</td>\n",
       "      <td>2835</td>\n",
       "    </tr>\n",
       "    <tr>\n",
       "      <th>4</th>\n",
       "      <td>37015</td>\n",
       "      <td>17665</td>\n",
       "    </tr>\n",
       "    <tr>\n",
       "      <th>...</th>\n",
       "      <td>...</td>\n",
       "      <td>...</td>\n",
       "    </tr>\n",
       "    <tr>\n",
       "      <th>113</th>\n",
       "      <td>38552</td>\n",
       "      <td>157</td>\n",
       "    </tr>\n",
       "    <tr>\n",
       "      <th>114</th>\n",
       "      <td>38560</td>\n",
       "      <td>1405</td>\n",
       "    </tr>\n",
       "    <tr>\n",
       "      <th>115</th>\n",
       "      <td>38563</td>\n",
       "      <td>3410</td>\n",
       "    </tr>\n",
       "    <tr>\n",
       "      <th>116</th>\n",
       "      <td>38567</td>\n",
       "      <td>685</td>\n",
       "    </tr>\n",
       "    <tr>\n",
       "      <th>117</th>\n",
       "      <td>38569</td>\n",
       "      <td>69</td>\n",
       "    </tr>\n",
       "  </tbody>\n",
       "</table>\n",
       "<p>118 rows × 2 columns</p>\n",
       "</div>"
      ],
      "text/plain": [
       "Unnamed: 0_level_0    zip  total\n",
       "0                   37010   4966\n",
       "1                   37012   2185\n",
       "2                   37013  97939\n",
       "3                   37014   2835\n",
       "4                   37015  17665\n",
       "..                    ...    ...\n",
       "113                 38552    157\n",
       "114                 38560   1405\n",
       "115                 38563   3410\n",
       "116                 38567    685\n",
       "117                 38569     69\n",
       "\n",
       "[118 rows x 2 columns]"
      ]
     },
     "execution_count": 24,
     "metadata": {},
     "output_type": "execute_result"
    }
   ],
   "source": [
    "pop_by_zip = ethnicity_df_clean[['zip','Total:']]\n",
    "pop_by_zip.rename(columns={'Total:':'total'})"
   ]
  },
  {
   "cell_type": "code",
   "execution_count": 25,
   "id": "16e354c7",
   "metadata": {},
   "outputs": [
    {
     "ename": "SyntaxError",
     "evalue": "invalid syntax (<ipython-input-25-79bfa5255501>, line 1)",
     "output_type": "error",
     "traceback": [
      "\u001b[1;36m  File \u001b[1;32m\"<ipython-input-25-79bfa5255501>\"\u001b[1;36m, line \u001b[1;32m1\u001b[0m\n\u001b[1;33m    Load geospatial zips\u001b[0m\n\u001b[1;37m         ^\u001b[0m\n\u001b[1;31mSyntaxError\u001b[0m\u001b[1;31m:\u001b[0m invalid syntax\n"
     ]
    }
   ],
   "source": [
    "Load geospatial zips"
   ]
  },
  {
   "cell_type": "code",
   "execution_count": 26,
   "id": "a926f606",
   "metadata": {},
   "outputs": [
    {
     "name": "stdout",
     "output_type": "stream",
     "text": [
      "epsg:4326\n"
     ]
    }
   ],
   "source": [
    "zipcodes = gpd.read_file('data/zipcodes.geojson')\n",
    "print(zipcodes.crs)\n",
    "# zipcodes"
   ]
  },
  {
   "cell_type": "code",
   "execution_count": 27,
   "id": "9560c828",
   "metadata": {},
   "outputs": [],
   "source": [
    "vac_zip = zipcodes.merge(vaccine_df_g, how='inner', left_on='zip', right_on='zip')"
   ]
  },
  {
   "cell_type": "code",
   "execution_count": 28,
   "id": "79b885b1",
   "metadata": {},
   "outputs": [],
   "source": [
    "covid_zip = zipcodes.merge(covid_df_g, how=\"inner\", left_on='zip', right_on='zip')"
   ]
  },
  {
   "cell_type": "code",
   "execution_count": 29,
   "id": "548f344a",
   "metadata": {},
   "outputs": [],
   "source": [
    "vac_zip = vac_zip[['zip', 'shape_stlength', 'shape_starea', 'geometry','v_count']]"
   ]
  },
  {
   "cell_type": "code",
   "execution_count": 30,
   "id": "5c4c13f1",
   "metadata": {},
   "outputs": [
    {
     "data": {
      "text/html": [
       "<div>\n",
       "<style scoped>\n",
       "    .dataframe tbody tr th:only-of-type {\n",
       "        vertical-align: middle;\n",
       "    }\n",
       "\n",
       "    .dataframe tbody tr th {\n",
       "        vertical-align: top;\n",
       "    }\n",
       "\n",
       "    .dataframe thead th {\n",
       "        text-align: right;\n",
       "    }\n",
       "</style>\n",
       "<table border=\"1\" class=\"dataframe\">\n",
       "  <thead>\n",
       "    <tr style=\"text-align: right;\">\n",
       "      <th></th>\n",
       "      <th>zip</th>\n",
       "      <th>v_count</th>\n",
       "    </tr>\n",
       "  </thead>\n",
       "  <tbody>\n",
       "    <tr>\n",
       "      <th>0</th>\n",
       "      <td>37013.0</td>\n",
       "      <td>27167.0</td>\n",
       "    </tr>\n",
       "    <tr>\n",
       "      <th>1</th>\n",
       "      <td>37027.0</td>\n",
       "      <td>506.0</td>\n",
       "    </tr>\n",
       "    <tr>\n",
       "      <th>2</th>\n",
       "      <td>37069.0</td>\n",
       "      <td>89.0</td>\n",
       "    </tr>\n",
       "    <tr>\n",
       "      <th>3</th>\n",
       "      <td>37072.0</td>\n",
       "      <td>13108.0</td>\n",
       "    </tr>\n",
       "    <tr>\n",
       "      <th>4</th>\n",
       "      <td>37076.0</td>\n",
       "      <td>16855.0</td>\n",
       "    </tr>\n",
       "  </tbody>\n",
       "</table>\n",
       "</div>"
      ],
      "text/plain": [
       "       zip  v_count\n",
       "0  37013.0  27167.0\n",
       "1  37027.0    506.0\n",
       "2  37069.0     89.0\n",
       "3  37072.0  13108.0\n",
       "4  37076.0  16855.0"
      ]
     },
     "execution_count": 30,
     "metadata": {},
     "output_type": "execute_result"
    }
   ],
   "source": [
    "vaccine_df_g.head()"
   ]
  },
  {
   "cell_type": "code",
   "execution_count": 36,
   "id": "8905b01d",
   "metadata": {},
   "outputs": [
    {
     "name": "stdout",
     "output_type": "stream",
     "text": [
      "<class 'geopandas.geodataframe.GeoDataFrame'>\n",
      "RangeIndex: 56 entries, 0 to 55\n",
      "Data columns (total 6 columns):\n",
      " #   Column          Non-Null Count  Dtype   \n",
      "---  ------          --------------  -----   \n",
      " 0   zip             56 non-null     object  \n",
      " 1   objectid        56 non-null     object  \n",
      " 2   po_name         56 non-null     object  \n",
      " 3   shape_stlength  56 non-null     object  \n",
      " 4   shape_starea    56 non-null     object  \n",
      " 5   geometry        56 non-null     geometry\n",
      "dtypes: geometry(1), object(5)\n",
      "memory usage: 2.8+ KB\n"
     ]
    }
   ],
   "source": [
    "zipcodes.info()"
   ]
  },
  {
   "cell_type": "code",
   "execution_count": 38,
   "id": "1500c2e9",
   "metadata": {},
   "outputs": [
    {
     "data": {
      "text/html": [
       "<div>\n",
       "<style scoped>\n",
       "    .dataframe tbody tr th:only-of-type {\n",
       "        vertical-align: middle;\n",
       "    }\n",
       "\n",
       "    .dataframe tbody tr th {\n",
       "        vertical-align: top;\n",
       "    }\n",
       "\n",
       "    .dataframe thead th {\n",
       "        text-align: right;\n",
       "    }\n",
       "</style>\n",
       "<table border=\"1\" class=\"dataframe\">\n",
       "  <thead>\n",
       "    <tr style=\"text-align: right;\">\n",
       "      <th></th>\n",
       "      <th>zip</th>\n",
       "      <th>cases</th>\n",
       "    </tr>\n",
       "  </thead>\n",
       "  <tbody>\n",
       "    <tr>\n",
       "      <th>0</th>\n",
       "      <td>37013.0</td>\n",
       "      <td>13354</td>\n",
       "    </tr>\n",
       "    <tr>\n",
       "      <th>1</th>\n",
       "      <td>37027.0</td>\n",
       "      <td>231</td>\n",
       "    </tr>\n",
       "    <tr>\n",
       "      <th>2</th>\n",
       "      <td>37069.0</td>\n",
       "      <td>16</td>\n",
       "    </tr>\n",
       "    <tr>\n",
       "      <th>3</th>\n",
       "      <td>37072.0</td>\n",
       "      <td>2984</td>\n",
       "    </tr>\n",
       "    <tr>\n",
       "      <th>4</th>\n",
       "      <td>37076.0</td>\n",
       "      <td>4279</td>\n",
       "    </tr>\n",
       "  </tbody>\n",
       "</table>\n",
       "</div>"
      ],
      "text/plain": [
       "       zip  cases\n",
       "0  37013.0  13354\n",
       "1  37027.0    231\n",
       "2  37069.0     16\n",
       "3  37072.0   2984\n",
       "4  37076.0   4279"
      ]
     },
     "execution_count": 38,
     "metadata": {},
     "output_type": "execute_result"
    }
   ],
   "source": [
    "covid_df_g.head()"
   ]
  },
  {
   "cell_type": "code",
   "execution_count": 95,
   "id": "c7b7b28e",
   "metadata": {},
   "outputs": [
    {
     "name": "stdout",
     "output_type": "stream",
     "text": [
      "<class 'pandas.core.frame.DataFrame'>\n",
      "Int64Index: 32 entries, 0 to 31\n",
      "Data columns (total 2 columns):\n",
      " #   Column  Non-Null Count  Dtype \n",
      "---  ------  --------------  ----- \n",
      " 0   zip     32 non-null     object\n",
      " 1   cases   32 non-null     int64 \n",
      "dtypes: int64(1), object(1)\n",
      "memory usage: 768.0+ bytes\n"
     ]
    }
   ],
   "source": [
    "covid_df_g.info()"
   ]
  },
  {
   "cell_type": "code",
   "execution_count": 97,
   "id": "f46add03",
   "metadata": {},
   "outputs": [],
   "source": [
    "covid_df_g.zip = covid_df_g.zip.astype(float)"
   ]
  },
  {
   "cell_type": "code",
   "execution_count": 99,
   "id": "3b7ced75",
   "metadata": {},
   "outputs": [
    {
     "data": {
      "text/html": [
       "<div>\n",
       "<style scoped>\n",
       "    .dataframe tbody tr th:only-of-type {\n",
       "        vertical-align: middle;\n",
       "    }\n",
       "\n",
       "    .dataframe tbody tr th {\n",
       "        vertical-align: top;\n",
       "    }\n",
       "\n",
       "    .dataframe thead th {\n",
       "        text-align: right;\n",
       "    }\n",
       "</style>\n",
       "<table border=\"1\" class=\"dataframe\">\n",
       "  <thead>\n",
       "    <tr style=\"text-align: right;\">\n",
       "      <th></th>\n",
       "      <th>zip</th>\n",
       "      <th>cases</th>\n",
       "    </tr>\n",
       "  </thead>\n",
       "  <tbody>\n",
       "    <tr>\n",
       "      <th>0</th>\n",
       "      <td>37013.0</td>\n",
       "      <td>13354</td>\n",
       "    </tr>\n",
       "    <tr>\n",
       "      <th>1</th>\n",
       "      <td>37027.0</td>\n",
       "      <td>231</td>\n",
       "    </tr>\n",
       "    <tr>\n",
       "      <th>2</th>\n",
       "      <td>37069.0</td>\n",
       "      <td>16</td>\n",
       "    </tr>\n",
       "    <tr>\n",
       "      <th>3</th>\n",
       "      <td>37072.0</td>\n",
       "      <td>2984</td>\n",
       "    </tr>\n",
       "    <tr>\n",
       "      <th>4</th>\n",
       "      <td>37076.0</td>\n",
       "      <td>4279</td>\n",
       "    </tr>\n",
       "  </tbody>\n",
       "</table>\n",
       "</div>"
      ],
      "text/plain": [
       "       zip  cases\n",
       "0  37013.0  13354\n",
       "1  37027.0    231\n",
       "2  37069.0     16\n",
       "3  37072.0   2984\n",
       "4  37076.0   4279"
      ]
     },
     "execution_count": 99,
     "metadata": {},
     "output_type": "execute_result"
    }
   ],
   "source": [
    "covid_df_g.head()"
   ]
  },
  {
   "cell_type": "code",
   "execution_count": 101,
   "id": "9cecac19",
   "metadata": {},
   "outputs": [
    {
     "name": "stdout",
     "output_type": "stream",
     "text": [
      "<class 'pandas.core.frame.DataFrame'>\n",
      "Int64Index: 32 entries, 0 to 31\n",
      "Data columns (total 2 columns):\n",
      " #   Column  Non-Null Count  Dtype  \n",
      "---  ------  --------------  -----  \n",
      " 0   zip     31 non-null     float64\n",
      " 1   cases   32 non-null     int64  \n",
      "dtypes: float64(1), int64(1)\n",
      "memory usage: 768.0 bytes\n"
     ]
    }
   ],
   "source": [
    "covid_df_g.info()"
   ]
  },
  {
   "cell_type": "code",
   "execution_count": null,
   "id": "8b1113be",
   "metadata": {},
   "outputs": [],
   "source": []
  }
 ],
 "metadata": {
  "kernelspec": {
   "display_name": "Python 3",
   "language": "python",
   "name": "python3"
  },
  "language_info": {
   "codemirror_mode": {
    "name": "ipython",
    "version": 3
   },
   "file_extension": ".py",
   "mimetype": "text/x-python",
   "name": "python",
   "nbconvert_exporter": "python",
   "pygments_lexer": "ipython3",
   "version": "3.8.5"
  }
 },
 "nbformat": 4,
 "nbformat_minor": 5
}
